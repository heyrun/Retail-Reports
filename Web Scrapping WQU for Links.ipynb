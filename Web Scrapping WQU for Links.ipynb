{
 "cells": [
  {
   "cell_type": "code",
   "execution_count": 82,
   "metadata": {},
   "outputs": [],
   "source": [
    "from bs4 import BeautifulSoup\n",
    "import requests\n",
    "import pandas as pd\n"
   ]
  },
  {
   "cell_type": "code",
   "execution_count": 84,
   "metadata": {},
   "outputs": [
    {
     "ename": "IndexError",
     "evalue": "list index out of range",
     "output_type": "error",
     "traceback": [
      "\u001b[1;31m---------------------------------------------------------------------------\u001b[0m",
      "\u001b[1;31mIndexError\u001b[0m                                Traceback (most recent call last)",
      "\u001b[1;32m<ipython-input-84-05622824224f>\u001b[0m in \u001b[0;36m<module>\u001b[1;34m()\u001b[0m\n\u001b[0;32m     12\u001b[0m     \u001b[0mtext\u001b[0m \u001b[1;33m=\u001b[0m \u001b[0mr\u001b[0m\u001b[1;33m.\u001b[0m\u001b[0mtext\u001b[0m\u001b[1;33m\u001b[0m\u001b[0m\n\u001b[0;32m     13\u001b[0m     \u001b[0msoup\u001b[0m \u001b[1;33m=\u001b[0m \u001b[0mBeautifulSoup\u001b[0m\u001b[1;33m(\u001b[0m\u001b[0mtext\u001b[0m\u001b[1;33m,\u001b[0m\u001b[1;34m'lxml'\u001b[0m\u001b[1;33m)\u001b[0m\u001b[1;33m\u001b[0m\u001b[0m\n\u001b[1;32m---> 14\u001b[1;33m     \u001b[0mrow\u001b[0m \u001b[1;33m=\u001b[0m \u001b[0msoup\u001b[0m\u001b[1;33m.\u001b[0m\u001b[0mfind_all\u001b[0m\u001b[1;33m(\u001b[0m\u001b[1;34m'table'\u001b[0m\u001b[1;33m)\u001b[0m\u001b[1;33m[\u001b[0m\u001b[1;36m2\u001b[0m\u001b[1;33m]\u001b[0m\u001b[1;33m\u001b[0m\u001b[0m\n\u001b[0m\u001b[0;32m     15\u001b[0m     \u001b[0mdata\u001b[0m \u001b[1;33m=\u001b[0m \u001b[1;33m[\u001b[0m\u001b[1;33m]\u001b[0m\u001b[1;33m\u001b[0m\u001b[0m\n\u001b[0;32m     16\u001b[0m     \u001b[1;32mfor\u001b[0m \u001b[0mr\u001b[0m \u001b[1;32min\u001b[0m \u001b[0mrow\u001b[0m\u001b[1;33m.\u001b[0m\u001b[0mfind_all\u001b[0m\u001b[1;33m(\u001b[0m\u001b[1;34m'tr'\u001b[0m\u001b[1;33m)\u001b[0m\u001b[1;33m:\u001b[0m\u001b[1;33m\u001b[0m\u001b[0m\n",
      "\u001b[1;31mIndexError\u001b[0m: list index out of range"
     ]
    }
   ],
   "source": [
    "main_page = 'https://wqu-ml.tditrain.com/hub/home#schedule'\n",
    "google_drive = 'https://wqu-ml.tditrain.com/hub/home#shared'\n",
    "login_page = '/hub/login?next=%2Fhub%2Fapi%2Foauth2%2Fauthorize%3Fclient_id%3Djupyterhub-user-aebake115%26redirect_uri%3D%252Fuser%252Faebake115%252Foauth_callback%26response_type%3Dcode%26state%3DeyJ1dWlkIjogImFkYTc4NWVhMmMxMDQ5ZmI4YmZiODM4ZjA4ZjUwYzg3IiwgIm5leHRfdXJsIjogIi91c2VyL2FlYmFrZTExNS90cmVlL2RhdGFjb3Vyc2UifQ'\n",
    "pa = 'https://wqu-ml.tditrain.com/hub/login'\n",
    "payload = {\n",
    "    'username': 'aebake115',\n",
    "    'password': 'f4ccbd'\n",
    "}\n",
    "with requests.Session() as session:\n",
    "    post = session.post(pa, data=payload)\n",
    "    r = session.get(google_drive)\n",
    "    text = r.text\n",
    "    soup = BeautifulSoup(text,'lxml')\n",
    "    row = soup.find_all('table')[2]\n",
    "    data = []\n",
    "    for r in row.find_all('tr'):\n",
    "        data.append(r.text)\n",
    "    "
   ]
  },
  {
   "cell_type": "code",
   "execution_count": null,
   "metadata": {},
   "outputs": [],
   "source": [
    "data"
   ]
  },
  {
   "cell_type": "code",
   "execution_count": 58,
   "metadata": {},
   "outputs": [],
   "source": [
    "cols = ['Date', 'Event', 'Youtube Link']"
   ]
  },
  {
   "cell_type": "code",
   "execution_count": 71,
   "metadata": {},
   "outputs": [],
   "source": [
    "d = [k.split('\\n') for k in data]"
   ]
  },
  {
   "cell_type": "code",
   "execution_count": 69,
   "metadata": {
    "scrolled": false
   },
   "outputs": [
    {
     "data": {
      "text/plain": [
       "['', 'Date', 'Event', 'Youtube Link', '']"
      ]
     },
     "execution_count": 69,
     "metadata": {},
     "output_type": "execute_result"
    }
   ],
   "source": [
    "d.pop(0)"
   ]
  },
  {
   "cell_type": "code",
   "execution_count": 74,
   "metadata": {},
   "outputs": [],
   "source": [
    "df = pd.DataFrame(d)"
   ]
  },
  {
   "cell_type": "code",
   "execution_count": 75,
   "metadata": {},
   "outputs": [],
   "source": [
    "df.columns =df.iloc[0]"
   ]
  },
  {
   "cell_type": "code",
   "execution_count": 78,
   "metadata": {},
   "outputs": [],
   "source": [
    "df.drop([0], inplace=True)"
   ]
  },
  {
   "cell_type": "code",
   "execution_count": 79,
   "metadata": {},
   "outputs": [
    {
     "data": {
      "text/html": [
       "<div>\n",
       "<style scoped>\n",
       "    .dataframe tbody tr th:only-of-type {\n",
       "        vertical-align: middle;\n",
       "    }\n",
       "\n",
       "    .dataframe tbody tr th {\n",
       "        vertical-align: top;\n",
       "    }\n",
       "\n",
       "    .dataframe thead th {\n",
       "        text-align: right;\n",
       "    }\n",
       "</style>\n",
       "<table border=\"1\" class=\"dataframe\">\n",
       "  <thead>\n",
       "    <tr style=\"text-align: right;\">\n",
       "      <th></th>\n",
       "      <th></th>\n",
       "      <th>Date</th>\n",
       "      <th>Event</th>\n",
       "      <th>Youtube Link</th>\n",
       "      <th></th>\n",
       "    </tr>\n",
       "  </thead>\n",
       "  <tbody>\n",
       "    <tr>\n",
       "      <th>1</th>\n",
       "      <td></td>\n",
       "      <td>Mon 30-Sep-2019 04:00 AM UTC</td>\n",
       "      <td>Introduction to Machine Learning</td>\n",
       "      <td>https://youtu.be/9J6FNvil6Gw</td>\n",
       "      <td></td>\n",
       "    </tr>\n",
       "    <tr>\n",
       "      <th>2</th>\n",
       "      <td></td>\n",
       "      <td>Mon 30-Sep-2019 04:00 AM UTC</td>\n",
       "      <td>1.2.1 Intro to Scikit-learn</td>\n",
       "      <td>https://youtu.be/ecryKgFv5MA</td>\n",
       "      <td></td>\n",
       "    </tr>\n",
       "    <tr>\n",
       "      <th>3</th>\n",
       "      <td></td>\n",
       "      <td>Mon 30-Sep-2019 04:00 AM UTC</td>\n",
       "      <td>1.2.2 Predictors</td>\n",
       "      <td>https://youtu.be/AHALKrsFdVw</td>\n",
       "      <td></td>\n",
       "    </tr>\n",
       "    <tr>\n",
       "      <th>4</th>\n",
       "      <td></td>\n",
       "      <td>Mon 30-Sep-2019 04:00 AM UTC</td>\n",
       "      <td>1.2.3 Transformers and Pipelines</td>\n",
       "      <td>https://youtu.be/zVU4131QPsw</td>\n",
       "      <td></td>\n",
       "    </tr>\n",
       "    <tr>\n",
       "      <th>5</th>\n",
       "      <td></td>\n",
       "      <td>Mon 30-Sep-2019 04:00 AM UTC</td>\n",
       "      <td>1.2.4 Feature Unions</td>\n",
       "      <td>https://youtu.be/_gOyCmdumps</td>\n",
       "      <td></td>\n",
       "    </tr>\n",
       "  </tbody>\n",
       "</table>\n",
       "</div>"
      ],
      "text/plain": [
       "0                            Date                             Event  \\\n",
       "1    Mon 30-Sep-2019 04:00 AM UTC  Introduction to Machine Learning   \n",
       "2    Mon 30-Sep-2019 04:00 AM UTC       1.2.1 Intro to Scikit-learn   \n",
       "3    Mon 30-Sep-2019 04:00 AM UTC                  1.2.2 Predictors   \n",
       "4    Mon 30-Sep-2019 04:00 AM UTC  1.2.3 Transformers and Pipelines   \n",
       "5    Mon 30-Sep-2019 04:00 AM UTC              1.2.4 Feature Unions   \n",
       "\n",
       "0                  Youtube Link    \n",
       "1  https://youtu.be/9J6FNvil6Gw    \n",
       "2  https://youtu.be/ecryKgFv5MA    \n",
       "3  https://youtu.be/AHALKrsFdVw    \n",
       "4  https://youtu.be/zVU4131QPsw    \n",
       "5  https://youtu.be/_gOyCmdumps    "
      ]
     },
     "execution_count": 79,
     "metadata": {},
     "output_type": "execute_result"
    }
   ],
   "source": [
    "df.head()"
   ]
  },
  {
   "cell_type": "code",
   "execution_count": 80,
   "metadata": {},
   "outputs": [],
   "source": [
    "df.to_csv('ML_Links.csv')"
   ]
  },
  {
   "cell_type": "code",
   "execution_count": null,
   "metadata": {},
   "outputs": [],
   "source": []
  }
 ],
 "metadata": {
  "kernelspec": {
   "display_name": "Python 3",
   "language": "python",
   "name": "python3"
  },
  "language_info": {
   "codemirror_mode": {
    "name": "ipython",
    "version": 3
   },
   "file_extension": ".py",
   "mimetype": "text/x-python",
   "name": "python",
   "nbconvert_exporter": "python",
   "pygments_lexer": "ipython3",
   "version": "3.6.5"
  }
 },
 "nbformat": 4,
 "nbformat_minor": 2
}
