{
 "cells": [
  {
   "cell_type": "code",
   "execution_count": 1,
   "metadata": {},
   "outputs": [],
   "source": [
    "#Import required Libraries. \n",
    "import numpy as np\n",
    "import pandas as pd\n",
    "import matplotlib.pyplot as plt\n",
    "import cx_Oracle \n",
    "import gzip\n",
    "import pickle\n",
    "from datetime import datetime"
   ]
  },
  {
   "cell_type": "code",
   "execution_count": 6,
   "metadata": {},
   "outputs": [],
   "source": [
    "#Connect to the database\n",
    "\n",
    "conn = cx_Oracle.connect('ReportUser/report@10.10.1.7:1521/rproods')\n",
    "cur = conn.cursor()"
   ]
  },
  {
   "cell_type": "code",
   "execution_count": 31,
   "metadata": {},
   "outputs": [],
   "source": [
    "query = \"SELECT I.INVC_SID, I.ITEM_SID, I.QTY, I.PRICE,(I.QTY*I.PRICE), I.COST, (I.QTY*I.COST), v.INVC_SID, v.SBS_NO, I.USR_DISC_PERC, v.STORE_NO, v.INVC_TYPE, I.TAX_AMT, v.CREATED_DATE, L.REDEEMED_AMT, L.GIFT_AMT, L.TOTAL_BASED_DISC, L.PERC_REWARD_DISC_AMT, L.USED_POINTS_POSITIVE, L.USED_POINTS_NEGATIVE, T.TENDER_TYPE, T.AMT, S.STORE_NAME FROM INVC_ITEM_V I LEFT JOIN INVOICE_V v ON I.INVC_SID=v.INVC_SID LEFT JOIN INVC_LTY_V L ON v.INVC_SID = L.INVC_SID LEFT JOIN INVC_TENDER_V T ON v.INVC_SID =  T.INVC_SID LEFT JOIN STORE_V S ON (v.SBS_N0+v.STORE_NO) = (S.SBS_NO+S.STORE_NO)\""
   ]
  },
  {
   "cell_type": "code",
   "execution_count": 32,
   "metadata": {},
   "outputs": [
    {
     "ename": "DatabaseError",
     "evalue": "ORA-06553: PLS-306: wrong number or types of arguments in call to 'V'",
     "output_type": "error",
     "traceback": [
      "\u001b[1;31m---------------------------------------------------------------------------\u001b[0m",
      "\u001b[1;31mDatabaseError\u001b[0m                             Traceback (most recent call last)",
      "\u001b[1;32m<ipython-input-32-62e23c8ecbae>\u001b[0m in \u001b[0;36m<module>\u001b[1;34m()\u001b[0m\n\u001b[1;32m----> 1\u001b[1;33m \u001b[0mcur\u001b[0m\u001b[1;33m.\u001b[0m\u001b[0mexecute\u001b[0m\u001b[1;33m(\u001b[0m\u001b[0mquery\u001b[0m\u001b[1;33m)\u001b[0m\u001b[1;33m\u001b[0m\u001b[0m\n\u001b[0m",
      "\u001b[1;31mDatabaseError\u001b[0m: ORA-06553: PLS-306: wrong number or types of arguments in call to 'V'"
     ]
    }
   ],
   "source": [
    "cur.execute(query)"
   ]
  },
  {
   "cell_type": "code",
   "execution_count": null,
   "metadata": {},
   "outputs": [],
   "source": [
    "cur.fetchall()"
   ]
  }
 ],
 "metadata": {
  "kernelspec": {
   "display_name": "Python 3",
   "language": "python",
   "name": "python3"
  },
  "language_info": {
   "codemirror_mode": {
    "name": "ipython",
    "version": 3
   },
   "file_extension": ".py",
   "mimetype": "text/x-python",
   "name": "python",
   "nbconvert_exporter": "python",
   "pygments_lexer": "ipython3",
   "version": "3.6.5"
  }
 },
 "nbformat": 4,
 "nbformat_minor": 2
}
