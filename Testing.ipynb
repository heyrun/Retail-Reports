{
 "cells": [
  {
   "cell_type": "code",
   "execution_count": 3,
   "metadata": {},
   "outputs": [],
   "source": [
    "#import pandas_oracle.tools as pt\n",
    "import cx_Oracle\n",
    "from matplotlib import pyplot as plt"
   ]
  },
  {
   "cell_type": "code",
   "execution_count": null,
   "metadata": {
    "scrolled": true
   },
   "outputs": [],
   "source": [
    "# !python -m pip install --upgrade  --user pip"
   ]
  },
  {
   "cell_type": "code",
   "execution_count": 1,
   "metadata": {},
   "outputs": [
    {
     "data": {
      "text/plain": [
       "'C:\\\\Users\\\\Aaron\\\\OneDrive - HealthPlus Ltd\\\\PYTHON WORKS'"
      ]
     },
     "execution_count": 1,
     "metadata": {},
     "output_type": "execute_result"
    }
   ],
   "source": [
    "import os\n",
    "os.getcwd()"
   ]
  },
  {
   "cell_type": "code",
   "execution_count": 4,
   "metadata": {},
   "outputs": [],
   "source": [
    "conn = cx_Oracle.connect('ReportUser/report@10.10.1.7:1521/rproods')\n",
    "cur = conn.cursor()\n"
   ]
  },
  {
   "cell_type": "code",
   "execution_count": 6,
   "metadata": {},
   "outputs": [],
   "source": [
    "sql =\"select invoice.invc_sid, invoice.sbs_no, invoice.store_no, invoice.invc_type,invoice.status, invoice.use_vat,invoice.vat_options, invoice.disc_perc,invoice.disc_amt, invoice.created_date, invoice.modified_date, invoice.trans_disc_amt, invc_item.qty, invc_item.orig_price, invc_item.price, invc_item.tax_amt, invc_item.cost, invc_item.comm_amt, invc_item.tender_state, invc_lty.redeemed_amt, invc_lty.earned_points_positive, invc_lty.earned_points_negative, invc_lty.used_points_positive, invc_lty.used_points_negative,\"\n",
    "sql+= \"store.store_name, invc_tender.tender_type,invc_tender.taken,invc_tender.given,invc_tender.amt,invc_tender.pmt_date\"\n",
    "sql+=\" From invoice join invc_item on invoice.invc_sid=invc_item.invc_sid join invc_lty on invoice.invc_sid = invc_lty.invc_sid\"\n",
    "\n",
    "sql+=\"join invc_tender on invoice.invc_sid = invc_tender.invc_sid join store on invoice.sbs_no+invoice.orig_store_no = store.sbs_no+store.store_no\""
   ]
  },
  {
   "cell_type": "code",
   "execution_count": 7,
   "metadata": {},
   "outputs": [
    {
     "ename": "DatabaseError",
     "evalue": "ORA-00933: SQL command not properly ended",
     "output_type": "error",
     "traceback": [
      "\u001b[1;31m---------------------------------------------------------------------------\u001b[0m",
      "\u001b[1;31mDatabaseError\u001b[0m                             Traceback (most recent call last)",
      "\u001b[1;32m<ipython-input-7-386f02b00887>\u001b[0m in \u001b[0;36m<module>\u001b[1;34m\u001b[0m\n\u001b[1;32m----> 1\u001b[1;33m \u001b[0mcur\u001b[0m\u001b[1;33m.\u001b[0m\u001b[0mexecute\u001b[0m\u001b[1;33m(\u001b[0m\u001b[0msql\u001b[0m\u001b[1;33m)\u001b[0m\u001b[1;33m\u001b[0m\u001b[1;33m\u001b[0m\u001b[0m\n\u001b[0m",
      "\u001b[1;31mDatabaseError\u001b[0m: ORA-00933: SQL command not properly ended"
     ]
    }
   ],
   "source": [
    "cur.execute(sql)"
   ]
  },
  {
   "cell_type": "code",
   "execution_count": null,
   "metadata": {},
   "outputs": [],
   "source": [
    "cur.execute(\n",
    "    'select SBS_NO, STORE_CODE, STORE_NAME, ADDRESS1,ADDRESS5, PHONE1,ACTIVATION_DATE from store_v')\n",
    "\n",
    "cols = ['SBS_NO', 'STORE_CODE', 'STORE_NAME',\n",
    "        'ADDRESS1', 'ADDRESS5', 'PHONE1', 'ACTIVATION_DATE']\n"
   ]
  },
  {
   "cell_type": "code",
   "execution_count": null,
   "metadata": {},
   "outputs": [],
   "source": [
    "s = cur.fetchall()\n",
    "stores = pd.DataFrame(s, columns = cols)"
   ]
  },
  {
   "cell_type": "code",
   "execution_count": null,
   "metadata": {},
   "outputs": [],
   "source": [
    "stores['mask'] = (stores['STORE_CODE']=='CMP') | (stores['STORE_CODE']=='SEL')\n",
    "\n",
    "stores['mask'] = ~stores['mask']"
   ]
  },
  {
   "cell_type": "code",
   "execution_count": null,
   "metadata": {},
   "outputs": [],
   "source": [
    "stores"
   ]
  },
  {
   "cell_type": "code",
   "execution_count": null,
   "metadata": {},
   "outputs": [],
   "source": [
    "j = stores[stores['mask']]"
   ]
  },
  {
   "cell_type": "code",
   "execution_count": null,
   "metadata": {},
   "outputs": [],
   "source": [
    "Q = (j['SBS_NO'])+(j['STORE_CODE']).astype(int)\n"
   ]
  },
  {
   "cell_type": "code",
   "execution_count": null,
   "metadata": {},
   "outputs": [],
   "source": [
    "Q.head()"
   ]
  },
  {
   "cell_type": "code",
   "execution_count": 2,
   "metadata": {},
   "outputs": [
    {
     "ename": "NameError",
     "evalue": "name 'cur' is not defined",
     "output_type": "error",
     "traceback": [
      "\u001b[1;31m---------------------------------------------------------------------------\u001b[0m",
      "\u001b[1;31mNameError\u001b[0m                                 Traceback (most recent call last)",
      "\u001b[1;32m<ipython-input-2-87c1b42f17b3>\u001b[0m in \u001b[0;36m<module>\u001b[1;34m()\u001b[0m\n\u001b[1;32m----> 1\u001b[1;33m \u001b[0minvn\u001b[0m \u001b[1;33m=\u001b[0m \u001b[0mcur\u001b[0m\u001b[1;33m.\u001b[0m\u001b[0mexecute\u001b[0m\u001b[1;33m(\u001b[0m\u001b[1;34m'Select INVC_SID, SBS_NO, STORE_NO, INVC_TYPE, HISEC_TYPE, STATUS, PROC_STATUS, CASHIER_ID, HELD, CUST_SID, WORKSTATION, ORIG_STATION, DISC_PERC,DISC_AMT, CREATED_DATE, MODIFIED_DATE, REF_INVC_SID, CREATEDBY_ID, ELAPSED_TIME,ACTIVITY_PERC,TRANS_DISC_AMT,STORE_NO_STATION, CREATED_MONTH, CREATED_WEEK, CREATED_HOUR, TENDER_TYPE from Invoice_V'\u001b[0m\u001b[1;33m)\u001b[0m\u001b[1;33m\u001b[0m\u001b[0m\n\u001b[0m\u001b[0;32m      2\u001b[0m \u001b[1;33m\u001b[0m\u001b[0m\n\u001b[0;32m      3\u001b[0m \u001b[0mcolname\u001b[0m  \u001b[1;33m=\u001b[0m \u001b[1;33m[\u001b[0m\u001b[1;34m\"INVC_SID\"\u001b[0m\u001b[1;33m,\u001b[0m \u001b[1;34m\"SBS_NO\"\u001b[0m\u001b[1;33m,\u001b[0m \u001b[1;34m\"STORE_NO\"\u001b[0m\u001b[1;33m,\u001b[0m \u001b[1;34m\"INVC_TYPE\"\u001b[0m\u001b[1;33m,\u001b[0m \u001b[1;34m\"HISEC_TYPE\"\u001b[0m\u001b[1;33m,\u001b[0m \u001b[1;34m\"STATUS\"\u001b[0m\u001b[1;33m,\u001b[0m \u001b[1;34m\"PROC_STATUS\"\u001b[0m\u001b[1;33m,\u001b[0m \u001b[1;34m\"CASHIER_ID\"\u001b[0m\u001b[1;33m,\u001b[0m \u001b[1;34m\"HELD\"\u001b[0m\u001b[1;33m,\u001b[0m \u001b[1;34m\"CUST_SID\"\u001b[0m\u001b[1;33m,\u001b[0m \u001b[1;34m\"WORKSTATION\"\u001b[0m\u001b[1;33m,\u001b[0m \u001b[1;34m\"ORIG_STATION\"\u001b[0m\u001b[1;33m,\u001b[0m \u001b[1;34m\"DISC_PERC\"\u001b[0m\u001b[1;33m,\u001b[0m\u001b[1;34m\"DISC_AMT\"\u001b[0m\u001b[1;33m,\u001b[0m \u001b[1;34m\"CREATED_DATE\"\u001b[0m\u001b[1;33m,\u001b[0m \u001b[1;34m\"MODIFIED_DATE\"\u001b[0m\u001b[1;33m,\u001b[0m \u001b[1;34m\"REF_INVC_SID\"\u001b[0m\u001b[1;33m,\u001b[0m \u001b[1;34m\"CREATEDBY_ID\"\u001b[0m\u001b[1;33m,\u001b[0m \u001b[1;34m\"ELAPSED_TIME\"\u001b[0m\u001b[1;33m,\u001b[0m\u001b[1;34m\"ACTIVITY_PERC\"\u001b[0m\u001b[1;33m,\u001b[0m\u001b[1;34m\"TRANS_DISC_AMT\"\u001b[0m\u001b[1;33m,\u001b[0m\u001b[1;34m\"STORE_NO_STATION\"\u001b[0m\u001b[1;33m,\u001b[0m \u001b[1;34m\"CREATED_MONTH\"\u001b[0m\u001b[1;33m,\u001b[0m \u001b[1;34m\"CREATED_WEEK\"\u001b[0m\u001b[1;33m,\u001b[0m \u001b[1;34m\"CREATED_HOUR\"\u001b[0m\u001b[1;33m,\u001b[0m \u001b[1;34m\"TENDER_TYPE\"\u001b[0m\u001b[1;33m]\u001b[0m\u001b[1;33m\u001b[0m\u001b[0m\n",
      "\u001b[1;31mNameError\u001b[0m: name 'cur' is not defined"
     ]
    }
   ],
   "source": [
    "invn = cur.execute('Select INVC_SID, SBS_NO, STORE_NO, INVC_TYPE, HISEC_TYPE, STATUS, PROC_STATUS, CASHIER_ID, HELD, CUST_SID, WORKSTATION, ORIG_STATION, DISC_PERC,DISC_AMT, CREATED_DATE, MODIFIED_DATE, REF_INVC_SID, CREATEDBY_ID, ELAPSED_TIME,ACTIVITY_PERC,TRANS_DISC_AMT,STORE_NO_STATION, CREATED_MONTH, CREATED_WEEK, CREATED_HOUR, TENDER_TYPE from Invoice_V')\n",
    "\n",
    "colname  = [\"INVC_SID\", \"SBS_NO\", \"STORE_NO\", \"INVC_TYPE\", \"HISEC_TYPE\", \"STATUS\", \"PROC_STATUS\", \"CASHIER_ID\", \"HELD\", \"CUST_SID\", \"WORKSTATION\", \"ORIG_STATION\", \"DISC_PERC\",\"DISC_AMT\", \"CREATED_DATE\", \"MODIFIED_DATE\", \"REF_INVC_SID\", \"CREATEDBY_ID\", \"ELAPSED_TIME\",\"ACTIVITY_PERC\",\"TRANS_DISC_AMT\",\"STORE_NO_STATION\", \"CREATED_MONTH\", \"CREATED_WEEK\", \"CREATED_HOUR\", \"TENDER_TYPE\"]"
   ]
  },
  {
   "cell_type": "code",
   "execution_count": null,
   "metadata": {},
   "outputs": [],
   "source": [
    "conn.version"
   ]
  },
  {
   "cell_type": "code",
   "execution_count": null,
   "metadata": {},
   "outputs": [],
   "source": [
    "\n",
    "inv = invn.fetchall()\n",
    "invoice = pd.DataFrame(inv,columns=colname)\n",
    "    \n",
    "cur.close()\n",
    "conn.close()"
   ]
  },
  {
   "cell_type": "code",
   "execution_count": null,
   "metadata": {},
   "outputs": [],
   "source": [
    "invoice.head()"
   ]
  },
  {
   "cell_type": "code",
   "execution_count": null,
   "metadata": {},
   "outputs": [],
   "source": [
    "invoice['CUST_SID'].fillna(0, inplace=True)"
   ]
  },
  {
   "cell_type": "code",
   "execution_count": null,
   "metadata": {},
   "outputs": [],
   "source": [
    "K = j['STORE_CODE'].astype(int)\n",
    "j['STORE_CODE'] = j.merge"
   ]
  },
  {
   "cell_type": "code",
   "execution_count": null,
   "metadata": {},
   "outputs": [],
   "source": [
    "k = j.groupby('SBS_NO')"
   ]
  },
  {
   "cell_type": "code",
   "execution_count": null,
   "metadata": {},
   "outputs": [],
   "source": [
    "k"
   ]
  },
  {
   "cell_type": "code",
   "execution_count": null,
   "metadata": {},
   "outputs": [],
   "source": [
    "k.head(200).sort_values('to_merge')\n"
   ]
  },
  {
   "cell_type": "code",
   "execution_count": null,
   "metadata": {},
   "outputs": [],
   "source": [
    "invoice.merge(j, how='left', left_on = j['SBS_NO']+(j['STORE_CODE']).astype(int), right_on = invoice['SBS_NO']+invoice['STORE_NO'])"
   ]
  },
  {
   "cell_type": "code",
   "execution_count": null,
   "metadata": {},
   "outputs": [],
   "source": [
    "stores['merge'\n",
    "] = j['SBS_NO']+j['STORE_CODE']\n",
    "\n",
    "invoice['merge'] = invoice['SBS_NO']+invoice['STORE_NO']"
   ]
  },
  {
   "cell_type": "code",
   "execution_count": null,
   "metadata": {
    "scrolled": true
   },
   "outputs": [],
   "source": [
    "stores['STORE_CODE']"
   ]
  },
  {
   "cell_type": "code",
   "execution_count": null,
   "metadata": {},
   "outputs": [],
   "source": [
    "new = invoice.merge(stores['STORE_NAME'], how = \"left\", left_on=(invoice['SBS_NO']+invoice['STORE_NO']), right_on=(stores['SBS_NO']+stores['STORE_CODE']))"
   ]
  },
  {
   "cell_type": "code",
   "execution_count": null,
   "metadata": {},
   "outputs": [],
   "source": [
    "stores[4:]"
   ]
  },
  {
   "cell_type": "code",
   "execution_count": 41,
   "metadata": {},
   "outputs": [],
   "source": [
    "invc = \"SELECT ITEM.INVC_SID, ITEM.QTY, ITEM.ORIG_PRICE,ITEM.PRICE, ITEM.COST, ITEM.USR_DISC_PERC,IV.SBS_NO, IV.STORE_NO, IV.INVC_TYPE,IV.DISC_AMT,IV.CREATED_DATE,IV.ELAPSED_TIME,IV.TRANS_DISC_AMT,IV.CREATED_WEEKDAY, IV.CREATED_HOUR FROM INVC_ITEM_V ITEM LEFT JOIN INVOICE_V IV ON ITEM.INVC_SID = IV.INVC_SID\""
   ]
  },
  {
   "cell_type": "code",
   "execution_count": 83,
   "metadata": {},
   "outputs": [
    {
     "ename": "TypeError",
     "evalue": "an integer is required (got type str)",
     "output_type": "error",
     "traceback": [
      "\u001b[1;31m---------------------------------------------------------------------------\u001b[0m",
      "\u001b[1;31mTypeError\u001b[0m                                 Traceback (most recent call last)",
      "\u001b[1;32m<ipython-input-83-72e332c3f21a>\u001b[0m in \u001b[0;36m<module>\u001b[1;34m()\u001b[0m\n\u001b[0;32m      1\u001b[0m \u001b[1;32mimport\u001b[0m \u001b[0mdatetime\u001b[0m\u001b[1;33m\u001b[0m\u001b[0m\n\u001b[1;32m----> 2\u001b[1;33m \u001b[0mx\u001b[0m \u001b[1;33m=\u001b[0m \u001b[0mdatetime\u001b[0m\u001b[1;33m.\u001b[0m\u001b[0mdatetime\u001b[0m\u001b[1;33m(\u001b[0m\u001b[1;34m'8/31/2019'\u001b[0m\u001b[1;33m)\u001b[0m\u001b[1;33m\u001b[0m\u001b[0m\n\u001b[0m\u001b[0;32m      3\u001b[0m \u001b[0mprint\u001b[0m\u001b[1;33m(\u001b[0m\u001b[0mx\u001b[0m\u001b[1;33m)\u001b[0m\u001b[1;33m\u001b[0m\u001b[0m\n",
      "\u001b[1;31mTypeError\u001b[0m: an integer is required (got type str)"
     ]
    }
   ],
   "source": [
    "import datetime\n",
    "x = datetime.datetime(8,31)\n",
    "print(x)"
   ]
  },
  {
   "cell_type": "code",
   "execution_count": 281,
   "metadata": {},
   "outputs": [],
   "source": [
    "invc = \"SELECT ITEM.INVC_SID, ITEM.QTY, ITEM.ORIG_PRICE,ITEM.PRICE, ITEM.COST, ITEM.USR_DISC_PERC,IV.SBS_NO, IV.STORE_NO, IV.INVC_TYPE,IV.DISC_AMT,IV.CREATED_DATE,IV.ELAPSED_TIME,IV.TRANS_DISC_AMT,IV.CREATED_WEEKDAY, IV.CREATED_HOUR FROM INVC_ITEM_V ITEM INNER JOIN INVOICE_V IV ON ITEM.INVC_SID = IV.INVC_SID WHERE IV.SBS_NO=200 AND IV.STORE_NO = 18 AND INVC_TYPE = 0 AND CREATED_DATE BETWEEN TO_DATE('9/1/2019','MM/DD/YYYY') AND TO_DATE('9/30/2019','MM/DD/YYYY')\""
   ]
  },
  {
   "cell_type": "code",
   "execution_count": 332,
   "metadata": {},
   "outputs": [],
   "source": [
    "July = \"SELECT ITEM.INVC_SID, ITEM.QTY, ITEM.ORIG_PRICE,ITEM.PRICE, ITEM.COST, ITEM.USR_DISC_PERC,IV.SBS_NO, IV.STORE_NO, IV.INVC_TYPE,IV.DISC_AMT,IV.CREATED_DATE,IV.ELAPSED_TIME,IV.TRANS_DISC_AMT,IV.CREATED_WEEKDAY, IV.CREATED_HOUR FROM INVC_ITEM_V ITEM INNER JOIN INVOICE_V IV ON ITEM.INVC_SID = IV.INVC_SID WHERE IV.SBS_NO=200 AND IV.STORE_NO = 18 AND INVC_TYPE = 0 AND CREATED_DATE BETWEEN TO_DATE('7/1/2019','MM/DD/YYYY') AND TO_DATE('7/31/2019','MM/DD/YYYY')\"\n",
    "\n",
    "Aug = \"SELECT ITEM.INVC_SID, ITEM.QTY, ITEM.ORIG_PRICE,ITEM.PRICE, ITEM.COST, ITEM.USR_DISC_PERC,IV.SBS_NO, IV.STORE_NO, IV.INVC_TYPE,IV.DISC_AMT,IV.CREATED_DATE,IV.ELAPSED_TIME,IV.TRANS_DISC_AMT,IV.CREATED_WEEKDAY, IV.CREATED_HOUR FROM INVC_ITEM_V ITEM INNER JOIN INVOICE_V IV ON ITEM.INVC_SID = IV.INVC_SID WHERE IV.SBS_NO=200 AND IV.STORE_NO = 18 AND INVC_TYPE = 0 AND CREATED_DATE BETWEEN TO_DATE('8/1/2019','MM/DD/YYYY') AND TO_DATE('8/31/2019','MM/DD/YYYY')\""
   ]
  },
  {
   "cell_type": "code",
   "execution_count": 333,
   "metadata": {},
   "outputs": [
    {
     "data": {
      "text/plain": [
       "\"SELECT ITEM.INVC_SID, ITEM.QTY, ITEM.ORIG_PRICE,ITEM.PRICE, ITEM.COST, ITEM.USR_DISC_PERC,IV.SBS_NO, IV.STORE_NO, IV.INVC_TYPE,IV.DISC_AMT,IV.CREATED_DATE,IV.ELAPSED_TIME,IV.TRANS_DISC_AMT,IV.CREATED_WEEKDAY, IV.CREATED_HOUR FROM INVC_ITEM_V ITEM INNER JOIN INVOICE_V IV ON ITEM.INVC_SID = IV.INVC_SID WHERE IV.SBS_NO=200 AND IV.STORE_NO = 18 AND INVC_TYPE = 0 AND CREATED_DATE BETWEEN TO_DATE('8/1/2019','MM/DD/YYYY') AND TO_DATE('8/31/2019','MM/DD/YYYY')\""
      ]
     },
     "execution_count": 333,
     "metadata": {},
     "output_type": "execute_result"
    }
   ],
   "source": [
    "Aug"
   ]
  },
  {
   "cell_type": "code",
   "execution_count": 315,
   "metadata": {},
   "outputs": [],
   "source": [
    "report = cur.execute(invc)"
   ]
  },
  {
   "cell_type": "code",
   "execution_count": 285,
   "metadata": {},
   "outputs": [],
   "source": [
    "inv = report.fetchall()"
   ]
  },
  {
   "cell_type": "code",
   "execution_count": 334,
   "metadata": {},
   "outputs": [],
   "source": [
    "Julrep = cur.execute(July)\n",
    "jul = Julrep.fetchall()"
   ]
  },
  {
   "cell_type": "code",
   "execution_count": 337,
   "metadata": {},
   "outputs": [
    {
     "data": {
      "text/plain": [
       "1074"
      ]
     },
     "execution_count": 337,
     "metadata": {},
     "output_type": "execute_result"
    }
   ],
   "source": [
    "len(jul)"
   ]
  },
  {
   "cell_type": "code",
   "execution_count": 336,
   "metadata": {},
   "outputs": [
    {
     "data": {
      "text/plain": [
       "1187"
      ]
     },
     "execution_count": 336,
     "metadata": {},
     "output_type": "execute_result"
    }
   ],
   "source": [
    "Augrep  =cur.execute(Aug)\n",
    "aug = Augrep.fetchall()\n",
    "len(aug)"
   ]
  },
  {
   "cell_type": "code",
   "execution_count": 156,
   "metadata": {},
   "outputs": [],
   "source": [
    "cols = \"INVC_SID,QTY,ORIG_PRICE,PRICE,COST,USR_DISC_PERC,SBS_NO,STORE_NO,INVC_TYPE,DISC_AMT,CREATED_DATE,ELAPSED_TIME,TRANS_DISC_AMT,CREATED_WEEKDAY,CREATED_HOUR\""
   ]
  },
  {
   "cell_type": "code",
   "execution_count": 157,
   "metadata": {},
   "outputs": [],
   "source": [
    "Columns = cols.split(',')"
   ]
  },
  {
   "cell_type": "code",
   "execution_count": 339,
   "metadata": {},
   "outputs": [],
   "source": [
    "reports = pd.DataFrame(inv,columns = Columns)\n",
    "reportsJu = pd.DataFrame(jul,columns = Columns)\n"
   ]
  },
  {
   "cell_type": "code",
   "execution_count": 340,
   "metadata": {},
   "outputs": [],
   "source": [
    "reportsAu = pd.DataFrame(aug,columns = Columns)"
   ]
  },
  {
   "cell_type": "code",
   "execution_count": 341,
   "metadata": {
    "scrolled": true
   },
   "outputs": [
    {
     "data": {
      "text/html": [
       "<div>\n",
       "<style scoped>\n",
       "    .dataframe tbody tr th:only-of-type {\n",
       "        vertical-align: middle;\n",
       "    }\n",
       "\n",
       "    .dataframe tbody tr th {\n",
       "        vertical-align: top;\n",
       "    }\n",
       "\n",
       "    .dataframe thead th {\n",
       "        text-align: right;\n",
       "    }\n",
       "</style>\n",
       "<table border=\"1\" class=\"dataframe\">\n",
       "  <thead>\n",
       "    <tr style=\"text-align: right;\">\n",
       "      <th></th>\n",
       "      <th>INVC_SID</th>\n",
       "      <th>QTY</th>\n",
       "      <th>ORIG_PRICE</th>\n",
       "      <th>PRICE</th>\n",
       "      <th>COST</th>\n",
       "      <th>USR_DISC_PERC</th>\n",
       "      <th>SBS_NO</th>\n",
       "      <th>STORE_NO</th>\n",
       "      <th>INVC_TYPE</th>\n",
       "      <th>DISC_AMT</th>\n",
       "      <th>CREATED_DATE</th>\n",
       "      <th>ELAPSED_TIME</th>\n",
       "      <th>TRANS_DISC_AMT</th>\n",
       "      <th>CREATED_WEEKDAY</th>\n",
       "      <th>CREATED_HOUR</th>\n",
       "    </tr>\n",
       "  </thead>\n",
       "  <tbody>\n",
       "    <tr>\n",
       "      <th>0</th>\n",
       "      <td>4064789909292805029</td>\n",
       "      <td>1.0</td>\n",
       "      <td>2400.0</td>\n",
       "      <td>2400.0</td>\n",
       "      <td>1600.0000</td>\n",
       "      <td>0.0</td>\n",
       "      <td>200</td>\n",
       "      <td>18</td>\n",
       "      <td>0</td>\n",
       "      <td>0.0</td>\n",
       "      <td>2019-08-01 10:28:27</td>\n",
       "      <td>251</td>\n",
       "      <td>NaN</td>\n",
       "      <td>4</td>\n",
       "      <td>10</td>\n",
       "    </tr>\n",
       "    <tr>\n",
       "      <th>1</th>\n",
       "      <td>4064789909292805029</td>\n",
       "      <td>1.0</td>\n",
       "      <td>6500.0</td>\n",
       "      <td>6500.0</td>\n",
       "      <td>4500.0000</td>\n",
       "      <td>0.0</td>\n",
       "      <td>200</td>\n",
       "      <td>18</td>\n",
       "      <td>0</td>\n",
       "      <td>0.0</td>\n",
       "      <td>2019-08-01 10:28:27</td>\n",
       "      <td>251</td>\n",
       "      <td>NaN</td>\n",
       "      <td>4</td>\n",
       "      <td>10</td>\n",
       "    </tr>\n",
       "    <tr>\n",
       "      <th>2</th>\n",
       "      <td>4064789909292805029</td>\n",
       "      <td>1.0</td>\n",
       "      <td>2500.0</td>\n",
       "      <td>2500.0</td>\n",
       "      <td>1666.6667</td>\n",
       "      <td>0.0</td>\n",
       "      <td>200</td>\n",
       "      <td>18</td>\n",
       "      <td>0</td>\n",
       "      <td>0.0</td>\n",
       "      <td>2019-08-01 10:28:27</td>\n",
       "      <td>251</td>\n",
       "      <td>NaN</td>\n",
       "      <td>4</td>\n",
       "      <td>10</td>\n",
       "    </tr>\n",
       "    <tr>\n",
       "      <th>3</th>\n",
       "      <td>4064789909292805029</td>\n",
       "      <td>1.0</td>\n",
       "      <td>1700.0</td>\n",
       "      <td>1700.0</td>\n",
       "      <td>750.0000</td>\n",
       "      <td>0.0</td>\n",
       "      <td>200</td>\n",
       "      <td>18</td>\n",
       "      <td>0</td>\n",
       "      <td>0.0</td>\n",
       "      <td>2019-08-01 10:28:27</td>\n",
       "      <td>251</td>\n",
       "      <td>NaN</td>\n",
       "      <td>4</td>\n",
       "      <td>10</td>\n",
       "    </tr>\n",
       "    <tr>\n",
       "      <th>4</th>\n",
       "      <td>4065213128144246360</td>\n",
       "      <td>1.0</td>\n",
       "      <td>1900.0</td>\n",
       "      <td>1900.0</td>\n",
       "      <td>1104.3521</td>\n",
       "      <td>0.0</td>\n",
       "      <td>200</td>\n",
       "      <td>18</td>\n",
       "      <td>0</td>\n",
       "      <td>NaN</td>\n",
       "      <td>2019-08-01 13:15:27</td>\n",
       "      <td>444</td>\n",
       "      <td>NaN</td>\n",
       "      <td>4</td>\n",
       "      <td>13</td>\n",
       "    </tr>\n",
       "  </tbody>\n",
       "</table>\n",
       "</div>"
      ],
      "text/plain": [
       "              INVC_SID  QTY  ORIG_PRICE   PRICE       COST  USR_DISC_PERC  \\\n",
       "0  4064789909292805029  1.0      2400.0  2400.0  1600.0000            0.0   \n",
       "1  4064789909292805029  1.0      6500.0  6500.0  4500.0000            0.0   \n",
       "2  4064789909292805029  1.0      2500.0  2500.0  1666.6667            0.0   \n",
       "3  4064789909292805029  1.0      1700.0  1700.0   750.0000            0.0   \n",
       "4  4065213128144246360  1.0      1900.0  1900.0  1104.3521            0.0   \n",
       "\n",
       "   SBS_NO  STORE_NO  INVC_TYPE  DISC_AMT        CREATED_DATE  ELAPSED_TIME  \\\n",
       "0     200        18          0       0.0 2019-08-01 10:28:27           251   \n",
       "1     200        18          0       0.0 2019-08-01 10:28:27           251   \n",
       "2     200        18          0       0.0 2019-08-01 10:28:27           251   \n",
       "3     200        18          0       0.0 2019-08-01 10:28:27           251   \n",
       "4     200        18          0       NaN 2019-08-01 13:15:27           444   \n",
       "\n",
       "   TRANS_DISC_AMT  CREATED_WEEKDAY  CREATED_HOUR  \n",
       "0             NaN                4            10  \n",
       "1             NaN                4            10  \n",
       "2             NaN                4            10  \n",
       "3             NaN                4            10  \n",
       "4             NaN                4            13  "
      ]
     },
     "execution_count": 341,
     "metadata": {},
     "output_type": "execute_result"
    }
   ],
   "source": [
    "reportsAu.head()"
   ]
  },
  {
   "cell_type": "code",
   "execution_count": 342,
   "metadata": {},
   "outputs": [
    {
     "data": {
      "text/html": [
       "<div>\n",
       "<style scoped>\n",
       "    .dataframe tbody tr th:only-of-type {\n",
       "        vertical-align: middle;\n",
       "    }\n",
       "\n",
       "    .dataframe tbody tr th {\n",
       "        vertical-align: top;\n",
       "    }\n",
       "\n",
       "    .dataframe thead th {\n",
       "        text-align: right;\n",
       "    }\n",
       "</style>\n",
       "<table border=\"1\" class=\"dataframe\">\n",
       "  <thead>\n",
       "    <tr style=\"text-align: right;\">\n",
       "      <th></th>\n",
       "      <th>INVC_SID</th>\n",
       "      <th>QTY</th>\n",
       "      <th>ORIG_PRICE</th>\n",
       "      <th>PRICE</th>\n",
       "      <th>COST</th>\n",
       "      <th>USR_DISC_PERC</th>\n",
       "      <th>SBS_NO</th>\n",
       "      <th>STORE_NO</th>\n",
       "      <th>INVC_TYPE</th>\n",
       "      <th>DISC_AMT</th>\n",
       "      <th>CREATED_DATE</th>\n",
       "      <th>ELAPSED_TIME</th>\n",
       "      <th>TRANS_DISC_AMT</th>\n",
       "      <th>CREATED_WEEKDAY</th>\n",
       "      <th>CREATED_HOUR</th>\n",
       "    </tr>\n",
       "  </thead>\n",
       "  <tbody>\n",
       "    <tr>\n",
       "      <th>0</th>\n",
       "      <td>3949733737402465116</td>\n",
       "      <td>1.0</td>\n",
       "      <td>10450.0</td>\n",
       "      <td>10450.0</td>\n",
       "      <td>7000.0000</td>\n",
       "      <td>0.0</td>\n",
       "      <td>200</td>\n",
       "      <td>18</td>\n",
       "      <td>0</td>\n",
       "      <td>0.0</td>\n",
       "      <td>2019-07-01 10:26:41</td>\n",
       "      <td>194</td>\n",
       "      <td>NaN</td>\n",
       "      <td>1</td>\n",
       "      <td>10</td>\n",
       "    </tr>\n",
       "    <tr>\n",
       "      <th>1</th>\n",
       "      <td>3949762238571225861</td>\n",
       "      <td>1.0</td>\n",
       "      <td>1150.0</td>\n",
       "      <td>1150.0</td>\n",
       "      <td>821.9400</td>\n",
       "      <td>0.0</td>\n",
       "      <td>200</td>\n",
       "      <td>18</td>\n",
       "      <td>0</td>\n",
       "      <td>0.0</td>\n",
       "      <td>2019-07-01 11:00:23</td>\n",
       "      <td>90</td>\n",
       "      <td>NaN</td>\n",
       "      <td>1</td>\n",
       "      <td>11</td>\n",
       "    </tr>\n",
       "    <tr>\n",
       "      <th>2</th>\n",
       "      <td>3950127859217819665</td>\n",
       "      <td>1.0</td>\n",
       "      <td>650.0</td>\n",
       "      <td>650.0</td>\n",
       "      <td>333.3333</td>\n",
       "      <td>0.0</td>\n",
       "      <td>200</td>\n",
       "      <td>18</td>\n",
       "      <td>0</td>\n",
       "      <td>NaN</td>\n",
       "      <td>2019-07-01 12:50:20</td>\n",
       "      <td>79</td>\n",
       "      <td>NaN</td>\n",
       "      <td>1</td>\n",
       "      <td>12</td>\n",
       "    </tr>\n",
       "    <tr>\n",
       "      <th>3</th>\n",
       "      <td>3950127859217819665</td>\n",
       "      <td>1.0</td>\n",
       "      <td>650.0</td>\n",
       "      <td>650.0</td>\n",
       "      <td>333.3333</td>\n",
       "      <td>0.0</td>\n",
       "      <td>200</td>\n",
       "      <td>18</td>\n",
       "      <td>0</td>\n",
       "      <td>NaN</td>\n",
       "      <td>2019-07-01 12:50:20</td>\n",
       "      <td>79</td>\n",
       "      <td>NaN</td>\n",
       "      <td>1</td>\n",
       "      <td>12</td>\n",
       "    </tr>\n",
       "    <tr>\n",
       "      <th>4</th>\n",
       "      <td>3950451191216959430</td>\n",
       "      <td>1.0</td>\n",
       "      <td>2700.0</td>\n",
       "      <td>2700.0</td>\n",
       "      <td>1350.0000</td>\n",
       "      <td>0.0</td>\n",
       "      <td>200</td>\n",
       "      <td>18</td>\n",
       "      <td>0</td>\n",
       "      <td>0.0</td>\n",
       "      <td>2019-07-01 14:55:13</td>\n",
       "      <td>39</td>\n",
       "      <td>NaN</td>\n",
       "      <td>1</td>\n",
       "      <td>14</td>\n",
       "    </tr>\n",
       "  </tbody>\n",
       "</table>\n",
       "</div>"
      ],
      "text/plain": [
       "              INVC_SID  QTY  ORIG_PRICE    PRICE       COST  USR_DISC_PERC  \\\n",
       "0  3949733737402465116  1.0     10450.0  10450.0  7000.0000            0.0   \n",
       "1  3949762238571225861  1.0      1150.0   1150.0   821.9400            0.0   \n",
       "2  3950127859217819665  1.0       650.0    650.0   333.3333            0.0   \n",
       "3  3950127859217819665  1.0       650.0    650.0   333.3333            0.0   \n",
       "4  3950451191216959430  1.0      2700.0   2700.0  1350.0000            0.0   \n",
       "\n",
       "   SBS_NO  STORE_NO  INVC_TYPE  DISC_AMT        CREATED_DATE  ELAPSED_TIME  \\\n",
       "0     200        18          0       0.0 2019-07-01 10:26:41           194   \n",
       "1     200        18          0       0.0 2019-07-01 11:00:23            90   \n",
       "2     200        18          0       NaN 2019-07-01 12:50:20            79   \n",
       "3     200        18          0       NaN 2019-07-01 12:50:20            79   \n",
       "4     200        18          0       0.0 2019-07-01 14:55:13            39   \n",
       "\n",
       "   TRANS_DISC_AMT  CREATED_WEEKDAY  CREATED_HOUR  \n",
       "0             NaN                1            10  \n",
       "1             NaN                1            11  \n",
       "2             NaN                1            12  \n",
       "3             NaN                1            12  \n",
       "4             NaN                1            14  "
      ]
     },
     "execution_count": 342,
     "metadata": {},
     "output_type": "execute_result"
    }
   ],
   "source": [
    "reportsJu.head()"
   ]
  },
  {
   "cell_type": "code",
   "execution_count": 343,
   "metadata": {},
   "outputs": [],
   "source": [
    "reports['DISC_AMT'] = reports['DISC_AMT'].fillna(0)\n",
    "reports['TRANS_DISC_AMT'] = reports['TRANS_DISC_AMT'].fillna(0)\n",
    "reports['SALES'] = reports['QTY']+reports['PRICE']\n",
    "reportsJu['SALES'] = reportsJu['QTY']+reportsJu['PRICE']\n",
    "reportsAu['SALES'] = reportsAu['QTY']+reportsAu['PRICE']"
   ]
  },
  {
   "cell_type": "code",
   "execution_count": 344,
   "metadata": {},
   "outputs": [],
   "source": [
    "dt = reports.groupby(reports['CREATED_WEEKDAY'])\n",
    "dju = reportsJu.groupby(reportsJu['CREATED_WEEKDAY'])\n",
    "dau = reportsAu.groupby(reportsAu['CREATED_WEEKDAY'])\n",
    "Dys = ['Mon','Tue','Wed','Thu','Fri','Sat','Sun']\n"
   ]
  },
  {
   "cell_type": "code",
   "execution_count": 345,
   "metadata": {
    "scrolled": true
   },
   "outputs": [
    {
     "data": {
      "text/html": [
       "<div>\n",
       "<style scoped>\n",
       "    .dataframe tbody tr th:only-of-type {\n",
       "        vertical-align: middle;\n",
       "    }\n",
       "\n",
       "    .dataframe tbody tr th {\n",
       "        vertical-align: top;\n",
       "    }\n",
       "\n",
       "    .dataframe thead th {\n",
       "        text-align: right;\n",
       "    }\n",
       "</style>\n",
       "<table border=\"1\" class=\"dataframe\">\n",
       "  <thead>\n",
       "    <tr style=\"text-align: right;\">\n",
       "      <th></th>\n",
       "      <th>count</th>\n",
       "      <th>mean</th>\n",
       "      <th>std</th>\n",
       "      <th>min</th>\n",
       "      <th>25%</th>\n",
       "      <th>50%</th>\n",
       "      <th>75%</th>\n",
       "      <th>max</th>\n",
       "    </tr>\n",
       "    <tr>\n",
       "      <th>CREATED_WEEKDAY</th>\n",
       "      <th></th>\n",
       "      <th></th>\n",
       "      <th></th>\n",
       "      <th></th>\n",
       "      <th></th>\n",
       "      <th></th>\n",
       "      <th></th>\n",
       "      <th></th>\n",
       "    </tr>\n",
       "  </thead>\n",
       "  <tbody>\n",
       "    <tr>\n",
       "      <th>0</th>\n",
       "      <td>171.0</td>\n",
       "      <td>3095.289942</td>\n",
       "      <td>2629.635049</td>\n",
       "      <td>251.00</td>\n",
       "      <td>1201.00</td>\n",
       "      <td>2501.0</td>\n",
       "      <td>4101.0</td>\n",
       "      <td>20420.26</td>\n",
       "    </tr>\n",
       "    <tr>\n",
       "      <th>1</th>\n",
       "      <td>187.0</td>\n",
       "      <td>4523.079251</td>\n",
       "      <td>7073.795081</td>\n",
       "      <td>251.00</td>\n",
       "      <td>1376.00</td>\n",
       "      <td>2801.0</td>\n",
       "      <td>6201.0</td>\n",
       "      <td>81165.82</td>\n",
       "    </tr>\n",
       "    <tr>\n",
       "      <th>2</th>\n",
       "      <td>120.0</td>\n",
       "      <td>3955.625000</td>\n",
       "      <td>3390.128358</td>\n",
       "      <td>241.00</td>\n",
       "      <td>1094.75</td>\n",
       "      <td>2701.0</td>\n",
       "      <td>6251.0</td>\n",
       "      <td>15001.00</td>\n",
       "    </tr>\n",
       "    <tr>\n",
       "      <th>3</th>\n",
       "      <td>74.0</td>\n",
       "      <td>3538.297297</td>\n",
       "      <td>2835.934915</td>\n",
       "      <td>251.00</td>\n",
       "      <td>1163.50</td>\n",
       "      <td>2726.0</td>\n",
       "      <td>5613.5</td>\n",
       "      <td>11301.00</td>\n",
       "    </tr>\n",
       "    <tr>\n",
       "      <th>4</th>\n",
       "      <td>167.0</td>\n",
       "      <td>3384.651437</td>\n",
       "      <td>3546.054384</td>\n",
       "      <td>304.81</td>\n",
       "      <td>1201.00</td>\n",
       "      <td>2501.0</td>\n",
       "      <td>3791.0</td>\n",
       "      <td>32101.00</td>\n",
       "    </tr>\n",
       "    <tr>\n",
       "      <th>5</th>\n",
       "      <td>236.0</td>\n",
       "      <td>4231.538220</td>\n",
       "      <td>4429.513609</td>\n",
       "      <td>251.00</td>\n",
       "      <td>1401.00</td>\n",
       "      <td>3076.0</td>\n",
       "      <td>5951.0</td>\n",
       "      <td>41851.00</td>\n",
       "    </tr>\n",
       "    <tr>\n",
       "      <th>6</th>\n",
       "      <td>232.0</td>\n",
       "      <td>3665.586207</td>\n",
       "      <td>3295.467212</td>\n",
       "      <td>251.00</td>\n",
       "      <td>1301.00</td>\n",
       "      <td>2746.0</td>\n",
       "      <td>5201.0</td>\n",
       "      <td>26501.00</td>\n",
       "    </tr>\n",
       "  </tbody>\n",
       "</table>\n",
       "</div>"
      ],
      "text/plain": [
       "                 count         mean          std     min      25%     50%  \\\n",
       "CREATED_WEEKDAY                                                             \n",
       "0                171.0  3095.289942  2629.635049  251.00  1201.00  2501.0   \n",
       "1                187.0  4523.079251  7073.795081  251.00  1376.00  2801.0   \n",
       "2                120.0  3955.625000  3390.128358  241.00  1094.75  2701.0   \n",
       "3                 74.0  3538.297297  2835.934915  251.00  1163.50  2726.0   \n",
       "4                167.0  3384.651437  3546.054384  304.81  1201.00  2501.0   \n",
       "5                236.0  4231.538220  4429.513609  251.00  1401.00  3076.0   \n",
       "6                232.0  3665.586207  3295.467212  251.00  1301.00  2746.0   \n",
       "\n",
       "                    75%       max  \n",
       "CREATED_WEEKDAY                    \n",
       "0                4101.0  20420.26  \n",
       "1                6201.0  81165.82  \n",
       "2                6251.0  15001.00  \n",
       "3                5613.5  11301.00  \n",
       "4                3791.0  32101.00  \n",
       "5                5951.0  41851.00  \n",
       "6                5201.0  26501.00  "
      ]
     },
     "execution_count": 345,
     "metadata": {},
     "output_type": "execute_result"
    }
   ],
   "source": [
    "dau.SALES.describe()"
   ]
  },
  {
   "cell_type": "code",
   "execution_count": 346,
   "metadata": {},
   "outputs": [
    {
     "data": {
      "text/html": [
       "<div>\n",
       "<style scoped>\n",
       "    .dataframe tbody tr th:only-of-type {\n",
       "        vertical-align: middle;\n",
       "    }\n",
       "\n",
       "    .dataframe tbody tr th {\n",
       "        vertical-align: top;\n",
       "    }\n",
       "\n",
       "    .dataframe thead th {\n",
       "        text-align: right;\n",
       "    }\n",
       "</style>\n",
       "<table border=\"1\" class=\"dataframe\">\n",
       "  <thead>\n",
       "    <tr style=\"text-align: right;\">\n",
       "      <th></th>\n",
       "      <th>count</th>\n",
       "      <th>mean</th>\n",
       "      <th>std</th>\n",
       "      <th>min</th>\n",
       "      <th>25%</th>\n",
       "      <th>50%</th>\n",
       "      <th>75%</th>\n",
       "      <th>max</th>\n",
       "    </tr>\n",
       "    <tr>\n",
       "      <th>CREATED_WEEKDAY</th>\n",
       "      <th></th>\n",
       "      <th></th>\n",
       "      <th></th>\n",
       "      <th></th>\n",
       "      <th></th>\n",
       "      <th></th>\n",
       "      <th></th>\n",
       "      <th></th>\n",
       "    </tr>\n",
       "  </thead>\n",
       "  <tbody>\n",
       "    <tr>\n",
       "      <th>0</th>\n",
       "      <td>179.0</td>\n",
       "      <td>3795.234804</td>\n",
       "      <td>3406.268824</td>\n",
       "      <td>501.0</td>\n",
       "      <td>1551.0</td>\n",
       "      <td>2501.0</td>\n",
       "      <td>4951.0</td>\n",
       "      <td>18951.0</td>\n",
       "    </tr>\n",
       "    <tr>\n",
       "      <th>1</th>\n",
       "      <td>189.0</td>\n",
       "      <td>3115.211693</td>\n",
       "      <td>2855.951600</td>\n",
       "      <td>251.0</td>\n",
       "      <td>1201.0</td>\n",
       "      <td>2381.0</td>\n",
       "      <td>4201.0</td>\n",
       "      <td>27001.0</td>\n",
       "    </tr>\n",
       "    <tr>\n",
       "      <th>2</th>\n",
       "      <td>108.0</td>\n",
       "      <td>5375.406852</td>\n",
       "      <td>7093.002418</td>\n",
       "      <td>251.0</td>\n",
       "      <td>1801.0</td>\n",
       "      <td>3451.0</td>\n",
       "      <td>6038.5</td>\n",
       "      <td>41851.0</td>\n",
       "    </tr>\n",
       "    <tr>\n",
       "      <th>3</th>\n",
       "      <td>108.0</td>\n",
       "      <td>3916.310370</td>\n",
       "      <td>4629.865003</td>\n",
       "      <td>251.0</td>\n",
       "      <td>1201.0</td>\n",
       "      <td>2501.0</td>\n",
       "      <td>5288.5</td>\n",
       "      <td>26501.0</td>\n",
       "    </tr>\n",
       "    <tr>\n",
       "      <th>4</th>\n",
       "      <td>124.0</td>\n",
       "      <td>3871.955645</td>\n",
       "      <td>3497.174168</td>\n",
       "      <td>251.0</td>\n",
       "      <td>1201.0</td>\n",
       "      <td>2751.0</td>\n",
       "      <td>5851.0</td>\n",
       "      <td>20501.0</td>\n",
       "    </tr>\n",
       "    <tr>\n",
       "      <th>5</th>\n",
       "      <td>154.0</td>\n",
       "      <td>3683.496753</td>\n",
       "      <td>3259.674844</td>\n",
       "      <td>411.0</td>\n",
       "      <td>1426.0</td>\n",
       "      <td>2701.0</td>\n",
       "      <td>4983.5</td>\n",
       "      <td>24001.0</td>\n",
       "    </tr>\n",
       "    <tr>\n",
       "      <th>6</th>\n",
       "      <td>212.0</td>\n",
       "      <td>4005.534292</td>\n",
       "      <td>4349.944323</td>\n",
       "      <td>251.0</td>\n",
       "      <td>1288.5</td>\n",
       "      <td>3196.0</td>\n",
       "      <td>5213.5</td>\n",
       "      <td>41851.0</td>\n",
       "    </tr>\n",
       "  </tbody>\n",
       "</table>\n",
       "</div>"
      ],
      "text/plain": [
       "                 count         mean          std    min     25%     50%  \\\n",
       "CREATED_WEEKDAY                                                           \n",
       "0                179.0  3795.234804  3406.268824  501.0  1551.0  2501.0   \n",
       "1                189.0  3115.211693  2855.951600  251.0  1201.0  2381.0   \n",
       "2                108.0  5375.406852  7093.002418  251.0  1801.0  3451.0   \n",
       "3                108.0  3916.310370  4629.865003  251.0  1201.0  2501.0   \n",
       "4                124.0  3871.955645  3497.174168  251.0  1201.0  2751.0   \n",
       "5                154.0  3683.496753  3259.674844  411.0  1426.0  2701.0   \n",
       "6                212.0  4005.534292  4349.944323  251.0  1288.5  3196.0   \n",
       "\n",
       "                    75%      max  \n",
       "CREATED_WEEKDAY                   \n",
       "0                4951.0  18951.0  \n",
       "1                4201.0  27001.0  \n",
       "2                6038.5  41851.0  \n",
       "3                5288.5  26501.0  \n",
       "4                5851.0  20501.0  \n",
       "5                4983.5  24001.0  \n",
       "6                5213.5  41851.0  "
      ]
     },
     "execution_count": 346,
     "metadata": {},
     "output_type": "execute_result"
    }
   ],
   "source": [
    "dju.SALES.describe()"
   ]
  },
  {
   "cell_type": "code",
   "execution_count": 347,
   "metadata": {},
   "outputs": [],
   "source": [
    "Xsum = dt.SALES.sum()\n",
    "Xmean = dt.SALES.mean()\n",
    "Xcount = dt.SALES.count()\n",
    "MeanJ = dju.SALES.mean()\n",
    "SumJ= dju.SALES.sum()\n",
    "CountJ = dju.SALES.count()\n",
    "MeanA = dau.SALES.mean()\n",
    "SumA = dau.SALES.sum()\n",
    "CountA = dau.SALES.count()\n"
   ]
  },
  {
   "cell_type": "code",
   "execution_count": 223,
   "metadata": {},
   "outputs": [
    {
     "data": {
      "image/png": "[encoded data removed]",
      "text/plain": [
       "<Figure size 432x288 with 1 Axes>"
      ]
     },
     "metadata": {},
     "output_type": "display_data"
    }
   ],
   "source": [
    "plt.plot(Xsum, label = \"Total Sales\")\n",
    "plt.plot(Xmean, label = \"Mean Sales\")\n",
    "plt.plot(Xmax, label = \"Highest Sales\")\n",
    "plt.plot(Xcount, label = \"Trans Count\")\n",
    "plt.title(\"Week Day Sales\")\n",
    "plt.xlabel(\"Day of the Week, 0=Monday\")\n",
    "plt.ylabel(\"Sales\")\n",
    "plt.legend(loc=\"upper center\")\n",
    "plt.show()"
   ]
  },
  {
   "cell_type": "code",
   "execution_count": 181,
   "metadata": {},
   "outputs": [],
   "source": [
    "Total_Sales = Xsum.join(Xmean,how='left' on  \n"
   ]
  },
  {
   "cell_type": "code",
   "execution_count": 227,
   "metadata": {},
   "outputs": [
    {
     "data": {
      "text/plain": [
       "[176, 137, 100, 101, 68, 95, 140]"
      ]
     },
     "execution_count": 227,
     "metadata": {},
     "output_type": "execute_result"
    }
   ],
   "source": [
    "list(Xcount)"
   ]
  },
  {
   "cell_type": "code",
   "execution_count": 348,
   "metadata": {},
   "outputs": [],
   "source": [
    "Sept = pd.DataFrame([list(Xsum),list(Xmean),list(Xcount)]).T\n",
    "Sept.columns = ['Total Sales','Average Sales','Tranx Count']\n",
    "\n",
    "Aug = pd.DataFrame([list(SumA),list(MeanA),list(CountA)]).T\n",
    "Aug.columns = ['Total Sales','Average Sales','Tranx Count']\n",
    "\n",
    "July = pd.DataFrame([list(SumJ),list(MeanJ),list(CountJ)]).T\n",
    "July.columns = ['Total Sales','Average Sales','Tranx Count']"
   ]
  },
  {
   "cell_type": "code",
   "execution_count": 350,
   "metadata": {},
   "outputs": [
    {
     "data": {
      "text/html": [
       "<div>\n",
       "<style scoped>\n",
       "    .dataframe tbody tr th:only-of-type {\n",
       "        vertical-align: middle;\n",
       "    }\n",
       "\n",
       "    .dataframe tbody tr th {\n",
       "        vertical-align: top;\n",
       "    }\n",
       "\n",
       "    .dataframe thead th {\n",
       "        text-align: right;\n",
       "    }\n",
       "</style>\n",
       "<table border=\"1\" class=\"dataframe\">\n",
       "  <thead>\n",
       "    <tr style=\"text-align: right;\">\n",
       "      <th></th>\n",
       "      <th>Total Sales</th>\n",
       "      <th>Average Sales</th>\n",
       "      <th>Tranx Count</th>\n",
       "    </tr>\n",
       "  </thead>\n",
       "  <tbody>\n",
       "    <tr>\n",
       "      <th>0</th>\n",
       "      <td>679347.03</td>\n",
       "      <td>3795.234804</td>\n",
       "      <td>179.0</td>\n",
       "    </tr>\n",
       "    <tr>\n",
       "      <th>1</th>\n",
       "      <td>588775.01</td>\n",
       "      <td>3115.211693</td>\n",
       "      <td>189.0</td>\n",
       "    </tr>\n",
       "    <tr>\n",
       "      <th>2</th>\n",
       "      <td>580543.94</td>\n",
       "      <td>5375.406852</td>\n",
       "      <td>108.0</td>\n",
       "    </tr>\n",
       "    <tr>\n",
       "      <th>3</th>\n",
       "      <td>422961.52</td>\n",
       "      <td>3916.310370</td>\n",
       "      <td>108.0</td>\n",
       "    </tr>\n",
       "    <tr>\n",
       "      <th>4</th>\n",
       "      <td>480122.50</td>\n",
       "      <td>3871.955645</td>\n",
       "      <td>124.0</td>\n",
       "    </tr>\n",
       "    <tr>\n",
       "      <th>5</th>\n",
       "      <td>567258.50</td>\n",
       "      <td>3683.496753</td>\n",
       "      <td>154.0</td>\n",
       "    </tr>\n",
       "    <tr>\n",
       "      <th>6</th>\n",
       "      <td>849173.27</td>\n",
       "      <td>4005.534292</td>\n",
       "      <td>212.0</td>\n",
       "    </tr>\n",
       "  </tbody>\n",
       "</table>\n",
       "</div>"
      ],
      "text/plain": [
       "   Total Sales  Average Sales  Tranx Count\n",
       "0    679347.03    3795.234804        179.0\n",
       "1    588775.01    3115.211693        189.0\n",
       "2    580543.94    5375.406852        108.0\n",
       "3    422961.52    3916.310370        108.0\n",
       "4    480122.50    3871.955645        124.0\n",
       "5    567258.50    3683.496753        154.0\n",
       "6    849173.27    4005.534292        212.0"
      ]
     },
     "execution_count": 350,
     "metadata": {},
     "output_type": "execute_result"
    }
   ],
   "source": [
    "July"
   ]
  },
  {
   "cell_type": "code",
   "execution_count": 367,
   "metadata": {
    "scrolled": true
   },
   "outputs": [
    {
     "data": {
      "text/html": [
       "<div>\n",
       "<style scoped>\n",
       "    .dataframe tbody tr th:only-of-type {\n",
       "        vertical-align: middle;\n",
       "    }\n",
       "\n",
       "    .dataframe tbody tr th {\n",
       "        vertical-align: top;\n",
       "    }\n",
       "\n",
       "    .dataframe thead th {\n",
       "        text-align: right;\n",
       "    }\n",
       "</style>\n",
       "<table border=\"1\" class=\"dataframe\">\n",
       "  <thead>\n",
       "    <tr style=\"text-align: right;\">\n",
       "      <th></th>\n",
       "      <th>index</th>\n",
       "      <th>Total Sales</th>\n",
       "      <th>Average Sales</th>\n",
       "      <th>Tranx Count</th>\n",
       "    </tr>\n",
       "  </thead>\n",
       "  <tbody>\n",
       "    <tr>\n",
       "      <th>0</th>\n",
       "      <td>0</td>\n",
       "      <td>529294.58</td>\n",
       "      <td>3095.289942</td>\n",
       "      <td>171.0</td>\n",
       "    </tr>\n",
       "    <tr>\n",
       "      <th>1</th>\n",
       "      <td>1</td>\n",
       "      <td>845815.82</td>\n",
       "      <td>4523.079251</td>\n",
       "      <td>187.0</td>\n",
       "    </tr>\n",
       "    <tr>\n",
       "      <th>2</th>\n",
       "      <td>2</td>\n",
       "      <td>474675.00</td>\n",
       "      <td>3955.625000</td>\n",
       "      <td>120.0</td>\n",
       "    </tr>\n",
       "    <tr>\n",
       "      <th>3</th>\n",
       "      <td>3</td>\n",
       "      <td>261834.00</td>\n",
       "      <td>3538.297297</td>\n",
       "      <td>74.0</td>\n",
       "    </tr>\n",
       "    <tr>\n",
       "      <th>4</th>\n",
       "      <td>4</td>\n",
       "      <td>565236.79</td>\n",
       "      <td>3384.651437</td>\n",
       "      <td>167.0</td>\n",
       "    </tr>\n",
       "    <tr>\n",
       "      <th>5</th>\n",
       "      <td>5</td>\n",
       "      <td>998643.02</td>\n",
       "      <td>4231.538220</td>\n",
       "      <td>236.0</td>\n",
       "    </tr>\n",
       "    <tr>\n",
       "      <th>6</th>\n",
       "      <td>6</td>\n",
       "      <td>850416.00</td>\n",
       "      <td>3665.586207</td>\n",
       "      <td>232.0</td>\n",
       "    </tr>\n",
       "  </tbody>\n",
       "</table>\n",
       "</div>"
      ],
      "text/plain": [
       "   index  Total Sales  Average Sales  Tranx Count\n",
       "0      0    529294.58    3095.289942        171.0\n",
       "1      1    845815.82    4523.079251        187.0\n",
       "2      2    474675.00    3955.625000        120.0\n",
       "3      3    261834.00    3538.297297         74.0\n",
       "4      4    565236.79    3384.651437        167.0\n",
       "5      5    998643.02    4231.538220        236.0\n",
       "6      6    850416.00    3665.586207        232.0"
      ]
     },
     "execution_count": 367,
     "metadata": {},
     "output_type": "execute_result"
    }
   ],
   "source": [
    "Aug"
   ]
  },
  {
   "cell_type": "code",
   "execution_count": 352,
   "metadata": {},
   "outputs": [
    {
     "data": {
      "text/html": [
       "<div>\n",
       "<style scoped>\n",
       "    .dataframe tbody tr th:only-of-type {\n",
       "        vertical-align: middle;\n",
       "    }\n",
       "\n",
       "    .dataframe tbody tr th {\n",
       "        vertical-align: top;\n",
       "    }\n",
       "\n",
       "    .dataframe thead th {\n",
       "        text-align: right;\n",
       "    }\n",
       "</style>\n",
       "<table border=\"1\" class=\"dataframe\">\n",
       "  <thead>\n",
       "    <tr style=\"text-align: right;\">\n",
       "      <th></th>\n",
       "      <th>Total Sales</th>\n",
       "      <th>Average Sales</th>\n",
       "      <th>Tranx Count</th>\n",
       "    </tr>\n",
       "  </thead>\n",
       "  <tbody>\n",
       "    <tr>\n",
       "      <th>0</th>\n",
       "      <td>620355.20</td>\n",
       "      <td>3544.886857</td>\n",
       "      <td>175.0</td>\n",
       "    </tr>\n",
       "    <tr>\n",
       "      <th>1</th>\n",
       "      <td>510149.98</td>\n",
       "      <td>3894.274656</td>\n",
       "      <td>131.0</td>\n",
       "    </tr>\n",
       "    <tr>\n",
       "      <th>2</th>\n",
       "      <td>400239.00</td>\n",
       "      <td>4042.818182</td>\n",
       "      <td>99.0</td>\n",
       "    </tr>\n",
       "    <tr>\n",
       "      <th>3</th>\n",
       "      <td>329704.00</td>\n",
       "      <td>3434.416667</td>\n",
       "      <td>96.0</td>\n",
       "    </tr>\n",
       "    <tr>\n",
       "      <th>4</th>\n",
       "      <td>222236.94</td>\n",
       "      <td>3527.570476</td>\n",
       "      <td>63.0</td>\n",
       "    </tr>\n",
       "    <tr>\n",
       "      <th>5</th>\n",
       "      <td>399056.16</td>\n",
       "      <td>4245.278298</td>\n",
       "      <td>94.0</td>\n",
       "    </tr>\n",
       "    <tr>\n",
       "      <th>6</th>\n",
       "      <td>450135.92</td>\n",
       "      <td>3238.387914</td>\n",
       "      <td>139.0</td>\n",
       "    </tr>\n",
       "  </tbody>\n",
       "</table>\n",
       "</div>"
      ],
      "text/plain": [
       "   Total Sales  Average Sales  Tranx Count\n",
       "0    620355.20    3544.886857        175.0\n",
       "1    510149.98    3894.274656        131.0\n",
       "2    400239.00    4042.818182         99.0\n",
       "3    329704.00    3434.416667         96.0\n",
       "4    222236.94    3527.570476         63.0\n",
       "5    399056.16    4245.278298         94.0\n",
       "6    450135.92    3238.387914        139.0"
      ]
     },
     "execution_count": 352,
     "metadata": {},
     "output_type": "execute_result"
    }
   ],
   "source": [
    "Sept"
   ]
  },
  {
   "cell_type": "code",
   "execution_count": 408,
   "metadata": {},
   "outputs": [
    {
     "data": {
      "text/plain": [
       "<function matplotlib.pyplot.show(*args, **kw)>"
      ]
     },
     "execution_count": 408,
     "metadata": {},
     "output_type": "execute_result"
    },
    {
     "data": {
      "image/png": "[encoded data removed]",
      "text/plain": [
       "<Figure size 432x288 with 1 Axes>"
      ]
     },
     "metadata": {},
     "output_type": "display_data"
    }
   ],
   "source": [
    "plt.plot(July['Total Sales'], label = \"July\")\n",
    "plt.plot(Aug['Total Sales'], label = 'August')\n",
    "plt.plot(Sept['Total Sales'], label = 'September')\n",
    "plt.legend(loc='upper center')\n",
    "plt.title('Total Sales Per Weed Day')\n",
    "plt.xlabel('Day of the Week, 0 = Monday, 6=Sunday')\n",
    "plt.ylabel('Sales Value')\n",
    "plt.show"
   ]
  },
  {
   "cell_type": "code",
   "execution_count": 403,
   "metadata": {},
   "outputs": [
    {
     "data": {
      "text/plain": [
       "<function matplotlib.pyplot.show(*args, **kw)>"
      ]
     },
     "execution_count": 403,
     "metadata": {},
     "output_type": "execute_result"
    },
    {
     "data": {
      "image/png": "[encoded data removed]",
      "text/plain": [
       "<Figure size 432x288 with 1 Axes>"
      ]
     },
     "metadata": {},
     "output_type": "display_data"
    }
   ],
   "source": [
    "plt.plot(July['Average Sales'], label = \"July\")\n",
    "plt.plot(Aug['Average Sales'], label = 'August')\n",
    "plt.plot(Sept['Average Sales'], label = 'September')\n",
    "plt.legend(loc='upper center')\n",
    "plt.title('Average Sales')\n",
    "plt.xlabel('Day of the Week, 0 = Monday, 6=Sunday')\n",
    "plt.ylabel('Average Sales Value')\n",
    "plt.show"
   ]
  },
  {
   "cell_type": "code",
   "execution_count": 405,
   "metadata": {},
   "outputs": [
    {
     "data": {
      "text/plain": [
       "<function matplotlib.pyplot.show(*args, **kw)>"
      ]
     },
     "execution_count": 405,
     "metadata": {},
     "output_type": "execute_result"
    },
    {
     "data": {
      "image/png": "[encoded data removed]",
      "text/plain": [
       "<Figure size 432x288 with 1 Axes>"
      ]
     },
     "metadata": {},
     "output_type": "display_data"
    }
   ],
   "source": [
    "plt.plot(July['Tranx Count'], label = \"July\")\n",
    "plt.plot(Aug['Tranx Count'], label = 'August')\n",
    "plt.plot(Sept['Tranx Count'], label = 'September')\n",
    "plt.legend(loc='upper center')\n",
    "plt.title('Transaction Count per weekday')\n",
    "plt.xlabel('Day of the Week, 0 = Monday, 6=Sunday')\n",
    "plt.ylabel('Sales Value')\n",
    "plt.show"
   ]
  },
  {
   "cell_type": "code",
   "execution_count": 388,
   "metadata": {},
   "outputs": [],
   "source": [
    "data = pd.concat([July,Aug,Sept], axis=1, )"
   ]
  },
  {
   "cell_type": "code",
   "execution_count": 384,
   "metadata": {},
   "outputs": [],
   "source": [
    "\n"
   ]
  },
  {
   "cell_type": "code",
   "execution_count": 392,
   "metadata": {},
   "outputs": [
    {
     "data": {
      "text/html": [
       "<div>\n",
       "<style scoped>\n",
       "    .dataframe tbody tr th:only-of-type {\n",
       "        vertical-align: middle;\n",
       "    }\n",
       "\n",
       "    .dataframe tbody tr th {\n",
       "        vertical-align: top;\n",
       "    }\n",
       "\n",
       "    .dataframe thead th {\n",
       "        text-align: right;\n",
       "    }\n",
       "</style>\n",
       "<table border=\"1\" class=\"dataframe\">\n",
       "  <thead>\n",
       "    <tr style=\"text-align: right;\">\n",
       "      <th></th>\n",
       "      <th>index</th>\n",
       "      <th>Total Sales</th>\n",
       "      <th>Average Sales</th>\n",
       "      <th>Tranx Count</th>\n",
       "      <th>index</th>\n",
       "      <th>Total Sales</th>\n",
       "      <th>Average Sales</th>\n",
       "      <th>Tranx Count</th>\n",
       "      <th>level_0</th>\n",
       "      <th>index</th>\n",
       "      <th>Total Sales</th>\n",
       "      <th>Average Sales</th>\n",
       "      <th>Tranx Count</th>\n",
       "    </tr>\n",
       "  </thead>\n",
       "  <tbody>\n",
       "    <tr>\n",
       "      <th>0</th>\n",
       "      <td>0</td>\n",
       "      <td>679347.03</td>\n",
       "      <td>3795.234804</td>\n",
       "      <td>179.0</td>\n",
       "      <td>0</td>\n",
       "      <td>529294.58</td>\n",
       "      <td>3095.289942</td>\n",
       "      <td>171.0</td>\n",
       "      <td>0</td>\n",
       "      <td>0</td>\n",
       "      <td>620355.20</td>\n",
       "      <td>3544.886857</td>\n",
       "      <td>175.0</td>\n",
       "    </tr>\n",
       "    <tr>\n",
       "      <th>1</th>\n",
       "      <td>1</td>\n",
       "      <td>588775.01</td>\n",
       "      <td>3115.211693</td>\n",
       "      <td>189.0</td>\n",
       "      <td>1</td>\n",
       "      <td>845815.82</td>\n",
       "      <td>4523.079251</td>\n",
       "      <td>187.0</td>\n",
       "      <td>1</td>\n",
       "      <td>1</td>\n",
       "      <td>510149.98</td>\n",
       "      <td>3894.274656</td>\n",
       "      <td>131.0</td>\n",
       "    </tr>\n",
       "    <tr>\n",
       "      <th>2</th>\n",
       "      <td>2</td>\n",
       "      <td>580543.94</td>\n",
       "      <td>5375.406852</td>\n",
       "      <td>108.0</td>\n",
       "      <td>2</td>\n",
       "      <td>474675.00</td>\n",
       "      <td>3955.625000</td>\n",
       "      <td>120.0</td>\n",
       "      <td>2</td>\n",
       "      <td>2</td>\n",
       "      <td>400239.00</td>\n",
       "      <td>4042.818182</td>\n",
       "      <td>99.0</td>\n",
       "    </tr>\n",
       "    <tr>\n",
       "      <th>3</th>\n",
       "      <td>3</td>\n",
       "      <td>422961.52</td>\n",
       "      <td>3916.310370</td>\n",
       "      <td>108.0</td>\n",
       "      <td>3</td>\n",
       "      <td>261834.00</td>\n",
       "      <td>3538.297297</td>\n",
       "      <td>74.0</td>\n",
       "      <td>3</td>\n",
       "      <td>3</td>\n",
       "      <td>329704.00</td>\n",
       "      <td>3434.416667</td>\n",
       "      <td>96.0</td>\n",
       "    </tr>\n",
       "    <tr>\n",
       "      <th>4</th>\n",
       "      <td>4</td>\n",
       "      <td>480122.50</td>\n",
       "      <td>3871.955645</td>\n",
       "      <td>124.0</td>\n",
       "      <td>4</td>\n",
       "      <td>565236.79</td>\n",
       "      <td>3384.651437</td>\n",
       "      <td>167.0</td>\n",
       "      <td>4</td>\n",
       "      <td>4</td>\n",
       "      <td>222236.94</td>\n",
       "      <td>3527.570476</td>\n",
       "      <td>63.0</td>\n",
       "    </tr>\n",
       "    <tr>\n",
       "      <th>5</th>\n",
       "      <td>5</td>\n",
       "      <td>567258.50</td>\n",
       "      <td>3683.496753</td>\n",
       "      <td>154.0</td>\n",
       "      <td>5</td>\n",
       "      <td>998643.02</td>\n",
       "      <td>4231.538220</td>\n",
       "      <td>236.0</td>\n",
       "      <td>5</td>\n",
       "      <td>5</td>\n",
       "      <td>399056.16</td>\n",
       "      <td>4245.278298</td>\n",
       "      <td>94.0</td>\n",
       "    </tr>\n",
       "    <tr>\n",
       "      <th>6</th>\n",
       "      <td>6</td>\n",
       "      <td>849173.27</td>\n",
       "      <td>4005.534292</td>\n",
       "      <td>212.0</td>\n",
       "      <td>6</td>\n",
       "      <td>850416.00</td>\n",
       "      <td>3665.586207</td>\n",
       "      <td>232.0</td>\n",
       "      <td>6</td>\n",
       "      <td>6</td>\n",
       "      <td>450135.92</td>\n",
       "      <td>3238.387914</td>\n",
       "      <td>139.0</td>\n",
       "    </tr>\n",
       "  </tbody>\n",
       "</table>\n",
       "</div>"
      ],
      "text/plain": [
       "   index  Total Sales  Average Sales  Tranx Count  index  Total Sales  \\\n",
       "0      0    679347.03    3795.234804        179.0      0    529294.58   \n",
       "1      1    588775.01    3115.211693        189.0      1    845815.82   \n",
       "2      2    580543.94    5375.406852        108.0      2    474675.00   \n",
       "3      3    422961.52    3916.310370        108.0      3    261834.00   \n",
       "4      4    480122.50    3871.955645        124.0      4    565236.79   \n",
       "5      5    567258.50    3683.496753        154.0      5    998643.02   \n",
       "6      6    849173.27    4005.534292        212.0      6    850416.00   \n",
       "\n",
       "   Average Sales  Tranx Count  level_0  index  Total Sales  Average Sales  \\\n",
       "0    3095.289942        171.0        0      0    620355.20    3544.886857   \n",
       "1    4523.079251        187.0        1      1    510149.98    3894.274656   \n",
       "2    3955.625000        120.0        2      2    400239.00    4042.818182   \n",
       "3    3538.297297         74.0        3      3    329704.00    3434.416667   \n",
       "4    3384.651437        167.0        4      4    222236.94    3527.570476   \n",
       "5    4231.538220        236.0        5      5    399056.16    4245.278298   \n",
       "6    3665.586207        232.0        6      6    450135.92    3238.387914   \n",
       "\n",
       "   Tranx Count  \n",
       "0        175.0  \n",
       "1        131.0  \n",
       "2         99.0  \n",
       "3         96.0  \n",
       "4         63.0  \n",
       "5         94.0  \n",
       "6        139.0  "
      ]
     },
     "execution_count": 392,
     "metadata": {},
     "output_type": "execute_result"
    }
   ],
   "source": [
    "data.drop(columns='Month')"
   ]
  },
  {
   "cell_type": "code",
   "execution_count": 393,
   "metadata": {},
   "outputs": [],
   "source": [
    "data.to_csv('sales.csv')"
   ]
  },
  {
   "cell_type": "code",
   "execution_count": null,
   "metadata": {},
   "outputs": [],
   "source": []
  }
 ],
 "metadata": {
  "kernelspec": {
   "display_name": "Python 3",
   "language": "python",
   "name": "python3"
  },
  "language_info": {
   "codemirror_mode": {
    "name": "ipython",
    "version": 3
   },
   "file_extension": ".py",
   "mimetype": "text/x-python",
   "name": "python",
   "nbconvert_exporter": "python",
   "pygments_lexer": "ipython3",
   "version": "3.7.4"
  }
 },
 "nbformat": 4,
 "nbformat_minor": 2
}
