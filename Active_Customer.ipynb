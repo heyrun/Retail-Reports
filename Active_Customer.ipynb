{
 "cells": [
  {
   "cell_type": "code",
   "execution_count": 2,
   "metadata": {},
   "outputs": [],
   "source": [
    "#Import required Libraries. \n",
    "import numpy as np\n",
    "import pandas as pd\n",
    "import cx_Oracle \n",
    "import gzip\n",
    "\n",
    "import pickle\n",
    "from datetime import datetime, timedelta"
   ]
  },
  {
   "cell_type": "code",
   "execution_count": 3,
   "metadata": {},
   "outputs": [],
   "source": [
    "conn = cx_Oracle.connect('ReportUser/report@10.10.1.7:1521/rproods')\n",
    "cur = conn.cursor()"
   ]
  },
  {
   "cell_type": "code",
   "execution_count": 8,
   "metadata": {},
   "outputs": [],
   "source": [
    "first_date = '31/12/2019'\n",
    "last_date = '31/01/2020'\n"
   ]
  },
  {
   "cell_type": "code",
   "execution_count": 9,
   "metadata": {},
   "outputs": [],
   "source": [
    "q = \"select c.CUST_SID, c.SBS_NO,c.FIRST_NAME, c.LAST_NAME, c.CREATED_DATE,c.LST_SALE_DATE, c.LST_SALE_AMT, a.PHONE1, a.EMAIL_ADDR FROM CUSTOMER_V c LEFT JOIN CUST_ADDRESS_V a ON c.CUST_SID=a.CUST_SID WHERE c.LST_SALE_DATE BETWEEN to_date('{}','DD/MM/YYYY') AND to_date('{}','DD/MM/YYYY')\".format(first_date, last_date)"
   ]
  },
  {
   "cell_type": "code",
   "execution_count": 10,
   "metadata": {},
   "outputs": [],
   "source": [
    "cur.execute(q)\n",
    "s =  cur.fetchall()"
   ]
  },
  {
   "cell_type": "code",
   "execution_count": 11,
   "metadata": {},
   "outputs": [],
   "source": [
    "cols = ['CUST_SID', 'SBS_NO','FIRST_NAME', 'LAST_NAME', 'CREATED_DATE', 'LST_SALE_DATE', 'LST_SALE_AMT', 'PHONE', 'EMAIL_ADDR']"
   ]
  },
  {
   "cell_type": "code",
   "execution_count": 12,
   "metadata": {},
   "outputs": [],
   "source": [
    "data = pd.DataFrame(s, columns=cols)"
   ]
  },
  {
   "cell_type": "code",
   "execution_count": 13,
   "metadata": {},
   "outputs": [
    {
     "data": {
      "text/html": [
       "<div>\n",
       "<style scoped>\n",
       "    .dataframe tbody tr th:only-of-type {\n",
       "        vertical-align: middle;\n",
       "    }\n",
       "\n",
       "    .dataframe tbody tr th {\n",
       "        vertical-align: top;\n",
       "    }\n",
       "\n",
       "    .dataframe thead th {\n",
       "        text-align: right;\n",
       "    }\n",
       "</style>\n",
       "<table border=\"1\" class=\"dataframe\">\n",
       "  <thead>\n",
       "    <tr style=\"text-align: right;\">\n",
       "      <th></th>\n",
       "      <th>CUST_SID</th>\n",
       "      <th>SBS_NO</th>\n",
       "      <th>FIRST_NAME</th>\n",
       "      <th>LAST_NAME</th>\n",
       "      <th>CREATED_DATE</th>\n",
       "      <th>LST_SALE_DATE</th>\n",
       "      <th>LST_SALE_AMT</th>\n",
       "      <th>PHONE</th>\n",
       "      <th>EMAIL_ADDR</th>\n",
       "    </tr>\n",
       "  </thead>\n",
       "  <tbody>\n",
       "    <tr>\n",
       "      <td>0</td>\n",
       "      <td>-2376407829632022041</td>\n",
       "      <td>100</td>\n",
       "      <td>IBI-ADA</td>\n",
       "      <td>0</td>\n",
       "      <td>2014-12-01 15:49:53</td>\n",
       "      <td>2020-01-27 20:03:19</td>\n",
       "      <td>640.0</td>\n",
       "      <td>8067946912</td>\n",
       "      <td>ibiada007@yahoo.com</td>\n",
       "    </tr>\n",
       "    <tr>\n",
       "      <td>1</td>\n",
       "      <td>-2376407829447026458</td>\n",
       "      <td>100</td>\n",
       "      <td></td>\n",
       "      <td>OBIENYI</td>\n",
       "      <td>2014-12-01 15:49:53</td>\n",
       "      <td>2020-01-26 14:27:07</td>\n",
       "      <td>1950.0</td>\n",
       "      <td>8033012121</td>\n",
       "      <td>None</td>\n",
       "    </tr>\n",
       "    <tr>\n",
       "      <td>2</td>\n",
       "      <td>-2376407830748800750</td>\n",
       "      <td>100</td>\n",
       "      <td>OYEBOLA</td>\n",
       "      <td>OGUNSANYA</td>\n",
       "      <td>2014-12-01 15:49:53</td>\n",
       "      <td>2020-01-30 21:01:35</td>\n",
       "      <td>2800.0</td>\n",
       "      <td>8065254243</td>\n",
       "      <td>oyebeczul@gmail.com</td>\n",
       "    </tr>\n",
       "    <tr>\n",
       "      <td>3</td>\n",
       "      <td>-2376407827705987348</td>\n",
       "      <td>100</td>\n",
       "      <td>FUNMITO</td>\n",
       "      <td>AGUSTO</td>\n",
       "      <td>2014-12-01 15:49:53</td>\n",
       "      <td>2020-01-24 19:50:27</td>\n",
       "      <td>5920.0</td>\n",
       "      <td>8033055882</td>\n",
       "      <td>funmito_agusto@yahoo.com</td>\n",
       "    </tr>\n",
       "    <tr>\n",
       "      <td>4</td>\n",
       "      <td>-2376407829003225753</td>\n",
       "      <td>100</td>\n",
       "      <td>KOGBE</td>\n",
       "      <td>OLUWABUKOLA</td>\n",
       "      <td>2014-12-01 15:49:53</td>\n",
       "      <td>2020-01-12 13:00:39</td>\n",
       "      <td>6070.0</td>\n",
       "      <td>8025553770</td>\n",
       "      <td>None</td>\n",
       "    </tr>\n",
       "  </tbody>\n",
       "</table>\n",
       "</div>"
      ],
      "text/plain": [
       "              CUST_SID  SBS_NO FIRST_NAME    LAST_NAME        CREATED_DATE  \\\n",
       "0 -2376407829632022041     100    IBI-ADA            0 2014-12-01 15:49:53   \n",
       "1 -2376407829447026458     100                 OBIENYI 2014-12-01 15:49:53   \n",
       "2 -2376407830748800750     100    OYEBOLA    OGUNSANYA 2014-12-01 15:49:53   \n",
       "3 -2376407827705987348     100    FUNMITO       AGUSTO 2014-12-01 15:49:53   \n",
       "4 -2376407829003225753     100      KOGBE  OLUWABUKOLA 2014-12-01 15:49:53   \n",
       "\n",
       "        LST_SALE_DATE  LST_SALE_AMT       PHONE                EMAIL_ADDR  \n",
       "0 2020-01-27 20:03:19         640.0  8067946912       ibiada007@yahoo.com  \n",
       "1 2020-01-26 14:27:07        1950.0  8033012121                      None  \n",
       "2 2020-01-30 21:01:35        2800.0  8065254243       oyebeczul@gmail.com  \n",
       "3 2020-01-24 19:50:27        5920.0  8033055882  funmito_agusto@yahoo.com  \n",
       "4 2020-01-12 13:00:39        6070.0  8025553770                      None  "
      ]
     },
     "execution_count": 13,
     "metadata": {},
     "output_type": "execute_result"
    }
   ],
   "source": [
    "data.head()"
   ]
  },
  {
   "cell_type": "code",
   "execution_count": 54,
   "metadata": {},
   "outputs": [],
   "source": [
    "t = datetime.strptime(last_date,\"%d/%m/%Y\")"
   ]
  },
  {
   "cell_type": "code",
   "execution_count": 55,
   "metadata": {},
   "outputs": [],
   "source": [
    "months = t.strftime('%B')"
   ]
  },
  {
   "cell_type": "code",
   "execution_count": 56,
   "metadata": {},
   "outputs": [
    {
     "data": {
      "text/plain": [
       "'January'"
      ]
     },
     "execution_count": 56,
     "metadata": {},
     "output_type": "execute_result"
    }
   ],
   "source": [
    "months\n"
   ]
  },
  {
   "cell_type": "code",
   "execution_count": 60,
   "metadata": {},
   "outputs": [],
   "source": [
    "filename = \"Monthly_Active_Customers/\"+months.strip()+\"_Active_Customers.csv\""
   ]
  },
  {
   "cell_type": "code",
   "execution_count": 61,
   "metadata": {},
   "outputs": [
    {
     "data": {
      "text/plain": [
       "'Monthly_Active_Customers/January_Active_Customers.csv'"
      ]
     },
     "execution_count": 61,
     "metadata": {},
     "output_type": "execute_result"
    }
   ],
   "source": [
    "filename"
   ]
  },
  {
   "cell_type": "code",
   "execution_count": 63,
   "metadata": {},
   "outputs": [],
   "source": [
    "data.to_csv(filename)"
   ]
  }
 ],
 "metadata": {
  "kernelspec": {
   "display_name": "Python 3",
   "language": "python",
   "name": "python3"
  },
  "language_info": {
   "codemirror_mode": {
    "name": "ipython",
    "version": 3
   },
   "file_extension": ".py",
   "mimetype": "text/x-python",
   "name": "python",
   "nbconvert_exporter": "python",
   "pygments_lexer": "ipython3",
   "version": "3.7.4"
  }
 },
 "nbformat": 4,
 "nbformat_minor": 2
}
