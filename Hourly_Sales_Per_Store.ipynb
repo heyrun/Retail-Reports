{
 "cells": [
  {
   "cell_type": "code",
   "execution_count": 1,
   "metadata": {},
   "outputs": [],
   "source": [
    "import pandas as pd\n",
    "import numpy as np\n",
    "import cx_Oracle\n",
    "import matplotlib.pyplot as plt\n",
    "from datetime import datetime"
   ]
  },
  {
   "cell_type": "code",
   "execution_count": 13,
   "metadata": {},
   "outputs": [],
   "source": [
    "conn = cx_Oracle.connect('ReportUser/report@10.10.1.7:1521/rproods')\n",
    "cur = conn.cursor()"
   ]
  },
  {
   "cell_type": "code",
   "execution_count": 3,
   "metadata": {},
   "outputs": [],
   "source": [
    "def getRecords(cur,sbs=100, store=None, dat='31/10/2019'):\n",
    "    #dat = datetime.strptime(dat, '%d/%m/%Y')\n",
    "    #dat  =  datetime.strftime(\"%d/%M/%Y\",dat)\n",
    "    \n",
    "    query= \"select i.INVC_SID, i.INVC_TYPE, i.CREATED_DATE,i.CREATED_HOUR, i.TENDER_TYPE, (t.QTY* t.PRICE) as EXT_PRICE, (t.QTY*t.COST) AS EXT_COST FROM INVC_ITEM_V t LEFT JOIN invoice_v i ON t.INVC_SID = i.INVC_SID where (i.SBS_NO={} AND i.STORE_NO={}) AND i.CREATED_DATE > to_date('{}','DD/MM/YYYY')\".format(sbs, store, dat)\n",
    "    \n",
    "        \n",
    "    cur.execute(query)\n",
    "    records = cur.fetchall()\n",
    "    columns = ['INVC_SID', 'INVC_TYPE', 'CREATED_DATE','CREATED_HOUR', 'TENDER_TYPE',  'EXT_PRICE',  'EXT_COST']\n",
    "    df = pd.DataFrame(records, columns=columns)\n",
    "    return df\n"
   ]
  },
  {
   "cell_type": "code",
   "execution_count": 21,
   "metadata": {},
   "outputs": [],
   "source": [
    "def getRecordsforCount(cur,sbs=100, store=None, dat='31/10/2019'):\n",
    "    #dat = datetime.strptime(dat, '%d/%m/%Y')\n",
    "    #dat  =  datetime.strftime(\"%d/%M/%Y\",dat)\n",
    "    \n",
    "    query= \"select i.INVC_SID, i.INVC_TYPE, i.CREATED_DATE,i.CREATED_HOUR, i.TENDER_TYPE, (t.QTY* t.PRICE) as EXT_PRICE, (t.QTY*t.COST) AS EXT_COST FROM INVC_ITEM_V t LEFT JOIN invoice_v i ON t.INVC_SID = i.INVC_SID where (i.SBS_NO={} AND i.STORE_NO={} AND i.INVC_TYPE=0) AND i.CREATED_DATE > to_date('{}','DD/MM/YYYY')\".format(sbs, store, dat)\n",
    "    \n",
    "        \n",
    "    cur.execute(query)\n",
    "    records = cur.fetchall()\n",
    "    columns = ['INVC_SID', 'INVC_TYPE', 'CREATED_DATE','CREATED_HOUR', 'TENDER_TYPE',  'EXT_PRICE',  'EXT_COST']\n",
    "    df = pd.DataFrame(records, columns=columns)\n",
    "    return df\n"
   ]
  },
  {
   "cell_type": "code",
   "execution_count": 23,
   "metadata": {},
   "outputs": [],
   "source": [
    "record = getRecordsforCount(cur, 100, 15)"
   ]
  },
  {
   "cell_type": "code",
   "execution_count": 25,
   "metadata": {},
   "outputs": [],
   "source": [
    "hours  = [10,11,12,1,2,3,4,5,6]"
   ]
  },
  {
   "cell_type": "code",
   "execution_count": 27,
   "metadata": {},
   "outputs": [
    {
     "data": {
      "text/html": [
       "<div>\n",
       "<style scoped>\n",
       "    .dataframe tbody tr th:only-of-type {\n",
       "        vertical-align: middle;\n",
       "    }\n",
       "\n",
       "    .dataframe tbody tr th {\n",
       "        vertical-align: top;\n",
       "    }\n",
       "\n",
       "    .dataframe thead th {\n",
       "        text-align: right;\n",
       "    }\n",
       "</style>\n",
       "<table border=\"1\" class=\"dataframe\">\n",
       "  <thead>\n",
       "    <tr style=\"text-align: right;\">\n",
       "      <th></th>\n",
       "      <th>INVC_SID</th>\n",
       "      <th>INVC_TYPE</th>\n",
       "      <th>CREATED_DATE</th>\n",
       "      <th>CREATED_HOUR</th>\n",
       "      <th>TENDER_TYPE</th>\n",
       "      <th>EXT_PRICE</th>\n",
       "      <th>EXT_COST</th>\n",
       "    </tr>\n",
       "  </thead>\n",
       "  <tbody>\n",
       "    <tr>\n",
       "      <td>0</td>\n",
       "      <td>4405735294803198214</td>\n",
       "      <td>0</td>\n",
       "      <td>2019-10-31 07:38:55</td>\n",
       "      <td>7</td>\n",
       "      <td>2</td>\n",
       "      <td>3990</td>\n",
       "      <td>2603.0000</td>\n",
       "    </tr>\n",
       "    <tr>\n",
       "      <td>1</td>\n",
       "      <td>4405804592182679664</td>\n",
       "      <td>0</td>\n",
       "      <td>2019-10-31 08:15:09</td>\n",
       "      <td>8</td>\n",
       "      <td>2</td>\n",
       "      <td>6450</td>\n",
       "      <td>3850.0000</td>\n",
       "    </tr>\n",
       "    <tr>\n",
       "      <td>2</td>\n",
       "      <td>4405804592182679664</td>\n",
       "      <td>0</td>\n",
       "      <td>2019-10-31 08:15:09</td>\n",
       "      <td>8</td>\n",
       "      <td>2</td>\n",
       "      <td>2390</td>\n",
       "      <td>1435.0000</td>\n",
       "    </tr>\n",
       "    <tr>\n",
       "      <td>3</td>\n",
       "      <td>4405763917856291460</td>\n",
       "      <td>0</td>\n",
       "      <td>2019-10-31 08:18:17</td>\n",
       "      <td>8</td>\n",
       "      <td>0</td>\n",
       "      <td>715</td>\n",
       "      <td>423.0000</td>\n",
       "    </tr>\n",
       "    <tr>\n",
       "      <td>4</td>\n",
       "      <td>4405865850459249987</td>\n",
       "      <td>0</td>\n",
       "      <td>2019-10-31 08:19:10</td>\n",
       "      <td>8</td>\n",
       "      <td>0</td>\n",
       "      <td>70</td>\n",
       "      <td>35.5555</td>\n",
       "    </tr>\n",
       "  </tbody>\n",
       "</table>\n",
       "</div>"
      ],
      "text/plain": [
       "              INVC_SID  INVC_TYPE        CREATED_DATE  CREATED_HOUR  \\\n",
       "0  4405735294803198214          0 2019-10-31 07:38:55             7   \n",
       "1  4405804592182679664          0 2019-10-31 08:15:09             8   \n",
       "2  4405804592182679664          0 2019-10-31 08:15:09             8   \n",
       "3  4405763917856291460          0 2019-10-31 08:18:17             8   \n",
       "4  4405865850459249987          0 2019-10-31 08:19:10             8   \n",
       "\n",
       "   TENDER_TYPE  EXT_PRICE   EXT_COST  \n",
       "0            2       3990  2603.0000  \n",
       "1            2       6450  3850.0000  \n",
       "2            2       2390  1435.0000  \n",
       "3            0        715   423.0000  \n",
       "4            0         70    35.5555  "
      ]
     },
     "execution_count": 27,
     "metadata": {},
     "output_type": "execute_result"
    }
   ],
   "source": [
    "record.head()"
   ]
  },
  {
   "cell_type": "code",
   "execution_count": 38,
   "metadata": {
    "scrolled": true
   },
   "outputs": [],
   "source": [
    "night_shift = record[(record.CREATED_HOUR.isin(hours))]"
   ]
  },
  {
   "cell_type": "code",
   "execution_count": null,
   "metadata": {},
   "outputs": [],
   "source": []
  },
  {
   "cell_type": "code",
   "execution_count": 39,
   "metadata": {
    "scrolled": false
   },
   "outputs": [
    {
     "data": {
      "text/html": [
       "<div>\n",
       "<style scoped>\n",
       "    .dataframe tbody tr th:only-of-type {\n",
       "        vertical-align: middle;\n",
       "    }\n",
       "\n",
       "    .dataframe tbody tr th {\n",
       "        vertical-align: top;\n",
       "    }\n",
       "\n",
       "    .dataframe thead th {\n",
       "        text-align: right;\n",
       "    }\n",
       "</style>\n",
       "<table border=\"1\" class=\"dataframe\">\n",
       "  <thead>\n",
       "    <tr style=\"text-align: right;\">\n",
       "      <th></th>\n",
       "      <th>INVC_SID</th>\n",
       "      <th>INVC_TYPE</th>\n",
       "      <th>CREATED_DATE</th>\n",
       "      <th>CREATED_HOUR</th>\n",
       "      <th>TENDER_TYPE</th>\n",
       "      <th>EXT_PRICE</th>\n",
       "      <th>EXT_COST</th>\n",
       "    </tr>\n",
       "  </thead>\n",
       "  <tbody>\n",
       "    <tr>\n",
       "      <td>9</td>\n",
       "      <td>4406111013944255647</td>\n",
       "      <td>0</td>\n",
       "      <td>2019-10-31 10:05:17</td>\n",
       "      <td>10</td>\n",
       "      <td>2</td>\n",
       "      <td>50</td>\n",
       "      <td>33.4200</td>\n",
       "    </tr>\n",
       "    <tr>\n",
       "      <td>10</td>\n",
       "      <td>4406140967468095641</td>\n",
       "      <td>0</td>\n",
       "      <td>2019-10-31 10:37:51</td>\n",
       "      <td>10</td>\n",
       "      <td>2</td>\n",
       "      <td>3990</td>\n",
       "      <td>1780.0000</td>\n",
       "    </tr>\n",
       "    <tr>\n",
       "      <td>11</td>\n",
       "      <td>4406244019248425052</td>\n",
       "      <td>0</td>\n",
       "      <td>2019-10-31 10:51:37</td>\n",
       "      <td>10</td>\n",
       "      <td>2</td>\n",
       "      <td>1450</td>\n",
       "      <td>850.0000</td>\n",
       "    </tr>\n",
       "    <tr>\n",
       "      <td>12</td>\n",
       "      <td>4406244019248425052</td>\n",
       "      <td>0</td>\n",
       "      <td>2019-10-31 10:51:37</td>\n",
       "      <td>10</td>\n",
       "      <td>2</td>\n",
       "      <td>2200</td>\n",
       "      <td>1260.0000</td>\n",
       "    </tr>\n",
       "    <tr>\n",
       "      <td>13</td>\n",
       "      <td>4406260385512045302</td>\n",
       "      <td>0</td>\n",
       "      <td>2019-10-31 11:13:54</td>\n",
       "      <td>11</td>\n",
       "      <td>0</td>\n",
       "      <td>1750</td>\n",
       "      <td>1092.9189</td>\n",
       "    </tr>\n",
       "  </tbody>\n",
       "</table>\n",
       "</div>"
      ],
      "text/plain": [
       "               INVC_SID  INVC_TYPE        CREATED_DATE  CREATED_HOUR  \\\n",
       "9   4406111013944255647          0 2019-10-31 10:05:17            10   \n",
       "10  4406140967468095641          0 2019-10-31 10:37:51            10   \n",
       "11  4406244019248425052          0 2019-10-31 10:51:37            10   \n",
       "12  4406244019248425052          0 2019-10-31 10:51:37            10   \n",
       "13  4406260385512045302          0 2019-10-31 11:13:54            11   \n",
       "\n",
       "    TENDER_TYPE  EXT_PRICE   EXT_COST  \n",
       "9             2         50    33.4200  \n",
       "10            2       3990  1780.0000  \n",
       "11            2       1450   850.0000  \n",
       "12            2       2200  1260.0000  \n",
       "13            0       1750  1092.9189  "
      ]
     },
     "execution_count": 39,
     "metadata": {},
     "output_type": "execute_result"
    }
   ],
   "source": [
    "night_shift.head()"
   ]
  },
  {
   "cell_type": "code",
   "execution_count": 69,
   "metadata": {},
   "outputs": [
    {
     "ename": "KeyError",
     "evalue": "\"None of [Int64Index([2019, 2019, 2019, 2019, 2019, 2019, 2019, 2019, 2019, 2019,\\n            ...\\n            2020, 2020, 2020, 2020, 2020, 2020, 2020, 2020, 2020, 2020],\\n           dtype='int64', length=2949)] are in the [index]\"",
     "output_type": "error",
     "traceback": [
      "\u001b[1;31m---------------------------------------------------------------------------\u001b[0m",
      "\u001b[1;31mKeyError\u001b[0m                                  Traceback (most recent call last)",
      "\u001b[1;32m<ipython-input-69-f92a2954252a>\u001b[0m in \u001b[0;36m<module>\u001b[1;34m\u001b[0m\n\u001b[1;32m----> 1\u001b[1;33m \u001b[0mnight_shift\u001b[0m\u001b[1;33m[\u001b[0m\u001b[1;34m'Month'\u001b[0m\u001b[1;33m]\u001b[0m \u001b[1;33m=\u001b[0m \u001b[0mnight_shift\u001b[0m\u001b[1;33m.\u001b[0m\u001b[0mloc\u001b[0m\u001b[1;33m[\u001b[0m\u001b[0mnight_shift\u001b[0m\u001b[1;33m.\u001b[0m\u001b[0mCREATED_DATE\u001b[0m\u001b[1;33m.\u001b[0m\u001b[0mdt\u001b[0m\u001b[1;33m.\u001b[0m\u001b[0myear\u001b[0m\u001b[1;33m]\u001b[0m\u001b[1;33m\u001b[0m\u001b[1;33m\u001b[0m\u001b[0m\n\u001b[0m",
      "\u001b[1;32m~\\Anaconda3\\lib\\site-packages\\pandas\\core\\indexing.py\u001b[0m in \u001b[0;36m__getitem__\u001b[1;34m(self, key)\u001b[0m\n\u001b[0;32m   1422\u001b[0m \u001b[1;33m\u001b[0m\u001b[0m\n\u001b[0;32m   1423\u001b[0m             \u001b[0mmaybe_callable\u001b[0m \u001b[1;33m=\u001b[0m \u001b[0mcom\u001b[0m\u001b[1;33m.\u001b[0m\u001b[0mapply_if_callable\u001b[0m\u001b[1;33m(\u001b[0m\u001b[0mkey\u001b[0m\u001b[1;33m,\u001b[0m \u001b[0mself\u001b[0m\u001b[1;33m.\u001b[0m\u001b[0mobj\u001b[0m\u001b[1;33m)\u001b[0m\u001b[1;33m\u001b[0m\u001b[1;33m\u001b[0m\u001b[0m\n\u001b[1;32m-> 1424\u001b[1;33m             \u001b[1;32mreturn\u001b[0m \u001b[0mself\u001b[0m\u001b[1;33m.\u001b[0m\u001b[0m_getitem_axis\u001b[0m\u001b[1;33m(\u001b[0m\u001b[0mmaybe_callable\u001b[0m\u001b[1;33m,\u001b[0m \u001b[0maxis\u001b[0m\u001b[1;33m=\u001b[0m\u001b[0maxis\u001b[0m\u001b[1;33m)\u001b[0m\u001b[1;33m\u001b[0m\u001b[1;33m\u001b[0m\u001b[0m\n\u001b[0m\u001b[0;32m   1425\u001b[0m \u001b[1;33m\u001b[0m\u001b[0m\n\u001b[0;32m   1426\u001b[0m     \u001b[1;32mdef\u001b[0m \u001b[0m_is_scalar_access\u001b[0m\u001b[1;33m(\u001b[0m\u001b[0mself\u001b[0m\u001b[1;33m,\u001b[0m \u001b[0mkey\u001b[0m\u001b[1;33m:\u001b[0m \u001b[0mTuple\u001b[0m\u001b[1;33m)\u001b[0m\u001b[1;33m:\u001b[0m\u001b[1;33m\u001b[0m\u001b[1;33m\u001b[0m\u001b[0m\n",
      "\u001b[1;32m~\\Anaconda3\\lib\\site-packages\\pandas\\core\\indexing.py\u001b[0m in \u001b[0;36m_getitem_axis\u001b[1;34m(self, key, axis)\u001b[0m\n\u001b[0;32m   1837\u001b[0m                     \u001b[1;32mraise\u001b[0m \u001b[0mValueError\u001b[0m\u001b[1;33m(\u001b[0m\u001b[1;34m\"Cannot index with multidimensional key\"\u001b[0m\u001b[1;33m)\u001b[0m\u001b[1;33m\u001b[0m\u001b[1;33m\u001b[0m\u001b[0m\n\u001b[0;32m   1838\u001b[0m \u001b[1;33m\u001b[0m\u001b[0m\n\u001b[1;32m-> 1839\u001b[1;33m                 \u001b[1;32mreturn\u001b[0m \u001b[0mself\u001b[0m\u001b[1;33m.\u001b[0m\u001b[0m_getitem_iterable\u001b[0m\u001b[1;33m(\u001b[0m\u001b[0mkey\u001b[0m\u001b[1;33m,\u001b[0m \u001b[0maxis\u001b[0m\u001b[1;33m=\u001b[0m\u001b[0maxis\u001b[0m\u001b[1;33m)\u001b[0m\u001b[1;33m\u001b[0m\u001b[1;33m\u001b[0m\u001b[0m\n\u001b[0m\u001b[0;32m   1840\u001b[0m \u001b[1;33m\u001b[0m\u001b[0m\n\u001b[0;32m   1841\u001b[0m             \u001b[1;31m# nested tuple slicing\u001b[0m\u001b[1;33m\u001b[0m\u001b[1;33m\u001b[0m\u001b[1;33m\u001b[0m\u001b[0m\n",
      "\u001b[1;32m~\\Anaconda3\\lib\\site-packages\\pandas\\core\\indexing.py\u001b[0m in \u001b[0;36m_getitem_iterable\u001b[1;34m(self, key, axis)\u001b[0m\n\u001b[0;32m   1131\u001b[0m         \u001b[1;32melse\u001b[0m\u001b[1;33m:\u001b[0m\u001b[1;33m\u001b[0m\u001b[1;33m\u001b[0m\u001b[0m\n\u001b[0;32m   1132\u001b[0m             \u001b[1;31m# A collection of keys\u001b[0m\u001b[1;33m\u001b[0m\u001b[1;33m\u001b[0m\u001b[1;33m\u001b[0m\u001b[0m\n\u001b[1;32m-> 1133\u001b[1;33m             \u001b[0mkeyarr\u001b[0m\u001b[1;33m,\u001b[0m \u001b[0mindexer\u001b[0m \u001b[1;33m=\u001b[0m \u001b[0mself\u001b[0m\u001b[1;33m.\u001b[0m\u001b[0m_get_listlike_indexer\u001b[0m\u001b[1;33m(\u001b[0m\u001b[0mkey\u001b[0m\u001b[1;33m,\u001b[0m \u001b[0maxis\u001b[0m\u001b[1;33m,\u001b[0m \u001b[0mraise_missing\u001b[0m\u001b[1;33m=\u001b[0m\u001b[1;32mFalse\u001b[0m\u001b[1;33m)\u001b[0m\u001b[1;33m\u001b[0m\u001b[1;33m\u001b[0m\u001b[0m\n\u001b[0m\u001b[0;32m   1134\u001b[0m             return self.obj._reindex_with_indexers(\n\u001b[0;32m   1135\u001b[0m                 \u001b[1;33m{\u001b[0m\u001b[0maxis\u001b[0m\u001b[1;33m:\u001b[0m \u001b[1;33m[\u001b[0m\u001b[0mkeyarr\u001b[0m\u001b[1;33m,\u001b[0m \u001b[0mindexer\u001b[0m\u001b[1;33m]\u001b[0m\u001b[1;33m}\u001b[0m\u001b[1;33m,\u001b[0m \u001b[0mcopy\u001b[0m\u001b[1;33m=\u001b[0m\u001b[1;32mTrue\u001b[0m\u001b[1;33m,\u001b[0m \u001b[0mallow_dups\u001b[0m\u001b[1;33m=\u001b[0m\u001b[1;32mTrue\u001b[0m\u001b[1;33m\u001b[0m\u001b[1;33m\u001b[0m\u001b[0m\n",
      "\u001b[1;32m~\\Anaconda3\\lib\\site-packages\\pandas\\core\\indexing.py\u001b[0m in \u001b[0;36m_get_listlike_indexer\u001b[1;34m(self, key, axis, raise_missing)\u001b[0m\n\u001b[0;32m   1090\u001b[0m \u001b[1;33m\u001b[0m\u001b[0m\n\u001b[0;32m   1091\u001b[0m         self._validate_read_indexer(\n\u001b[1;32m-> 1092\u001b[1;33m             \u001b[0mkeyarr\u001b[0m\u001b[1;33m,\u001b[0m \u001b[0mindexer\u001b[0m\u001b[1;33m,\u001b[0m \u001b[0mo\u001b[0m\u001b[1;33m.\u001b[0m\u001b[0m_get_axis_number\u001b[0m\u001b[1;33m(\u001b[0m\u001b[0maxis\u001b[0m\u001b[1;33m)\u001b[0m\u001b[1;33m,\u001b[0m \u001b[0mraise_missing\u001b[0m\u001b[1;33m=\u001b[0m\u001b[0mraise_missing\u001b[0m\u001b[1;33m\u001b[0m\u001b[1;33m\u001b[0m\u001b[0m\n\u001b[0m\u001b[0;32m   1093\u001b[0m         )\n\u001b[0;32m   1094\u001b[0m         \u001b[1;32mreturn\u001b[0m \u001b[0mkeyarr\u001b[0m\u001b[1;33m,\u001b[0m \u001b[0mindexer\u001b[0m\u001b[1;33m\u001b[0m\u001b[1;33m\u001b[0m\u001b[0m\n",
      "\u001b[1;32m~\\Anaconda3\\lib\\site-packages\\pandas\\core\\indexing.py\u001b[0m in \u001b[0;36m_validate_read_indexer\u001b[1;34m(self, key, indexer, axis, raise_missing)\u001b[0m\n\u001b[0;32m   1175\u001b[0m                 raise KeyError(\n\u001b[0;32m   1176\u001b[0m                     \"None of [{key}] are in the [{axis}]\".format(\n\u001b[1;32m-> 1177\u001b[1;33m                         \u001b[0mkey\u001b[0m\u001b[1;33m=\u001b[0m\u001b[0mkey\u001b[0m\u001b[1;33m,\u001b[0m \u001b[0maxis\u001b[0m\u001b[1;33m=\u001b[0m\u001b[0mself\u001b[0m\u001b[1;33m.\u001b[0m\u001b[0mobj\u001b[0m\u001b[1;33m.\u001b[0m\u001b[0m_get_axis_name\u001b[0m\u001b[1;33m(\u001b[0m\u001b[0maxis\u001b[0m\u001b[1;33m)\u001b[0m\u001b[1;33m\u001b[0m\u001b[1;33m\u001b[0m\u001b[0m\n\u001b[0m\u001b[0;32m   1178\u001b[0m                     )\n\u001b[0;32m   1179\u001b[0m                 )\n",
      "\u001b[1;31mKeyError\u001b[0m: \"None of [Int64Index([2019, 2019, 2019, 2019, 2019, 2019, 2019, 2019, 2019, 2019,\\n            ...\\n            2020, 2020, 2020, 2020, 2020, 2020, 2020, 2020, 2020, 2020],\\n           dtype='int64', length=2949)] are in the [index]\""
     ]
    }
   ],
   "source": [
    "night_shift['Month'] = night_shift.loc[night_shift.CREATED_DATE.dt.year]"
   ]
  },
  {
   "cell_type": "code",
   "execution_count": 66,
   "metadata": {},
   "outputs": [
    {
     "data": {
      "text/plain": [
       "9        10\n",
       "10       10\n",
       "11       10\n",
       "12       10\n",
       "13       10\n",
       "         ..\n",
       "15305     1\n",
       "15306     1\n",
       "15307     1\n",
       "15308     1\n",
       "15395     1\n",
       "Name: CREATED_DATE, Length: 2949, dtype: int64"
      ]
     },
     "execution_count": 66,
     "metadata": {},
     "output_type": "execute_result"
    }
   ],
   "source": [
    "dt"
   ]
  },
  {
   "cell_type": "code",
   "execution_count": 6,
   "metadata": {},
   "outputs": [],
   "source": [
    "def PrepnSaveRecords(df, store):\n",
    "    sales_values = k.groupby('INVC_SID').sum() #Sum all Invoice values\n",
    "    sales = sales_values.drop(['CREATED_HOUR','TENDER_TYPE', 'INVC_TYPE'], axis = 1) # remove other columns so only \n",
    "    invc = df.drop_duplicates('INVC_SID').set_index('INVC_SID') # remove all duplicate invoices and set the index to invoice sid for merging\n",
    "    s = pd.merge(sales, invc,  how='left', left_on = 'INVC_SID', right_on = 'INVC_SID' ) #Merge the sum of invoice withe original records\n",
    "    s.drop(['EXT_PRICE_y', 'EXT_COST_y'], axis=1, inplace=True) #remove duplicate columns\n",
    "    s.rename({'EXT_PRICE_x':'EXT_PRICE', \n",
    "             'EXT_COST_x':'EXT_COST'}, inplace = True)\n",
    "    \n",
    "    dta  = s.set_index('CREATED_DATE') #Make the record a time series \n",
    "  \n",
    "    nm = \"{}.csv\".format(store)\n",
    "    p  = dta.EXT_PRICE_x.resample('H').sum()\n",
    "    d = pd.DataFrame(p, columns=['DATE','SALES'])\n",
    "    p.to_csv(nm, header=True)\n",
    "    return \n"
   ]
  },
  {
   "cell_type": "code",
   "execution_count": null,
   "metadata": {},
   "outputs": [],
   "source": [
    "def transcount(df, store):\n",
    "    sales_values = k.groupby('INVC_SID').count() #Sum all Invoice values\n",
    "    sales = sales_values.drop(['CREATED_HOUR','TENDER_TYPE', 'INVC_TYPE'], axis = 1) # remove other columns so only \n",
    "    invc = df.drop_duplicates('INVC_SID').set_index('INVC_SID') # remove all duplicate invoices and set the index to invoice sid for merging\n",
    "    s = pd.merge(sales, invc,  how='left', left_on = 'INVC_SID', right_on = 'INVC_SID' ) #Merge the sum of invoice withe original records\n",
    "    s.drop(['EXT_PRICE_y', 'EXT_COST_y'], axis=1, inplace=True) #remove duplicate columns\n",
    "    s.rename({'EXT_PRICE_x':'EXT_PRICE', \n",
    "             'EXT_COST_x':'EXT_COST'}, inplace = True)\n",
    "    \n",
    "    dta  = s.set_index('CREATED_DATE') #Make the record a time series \n",
    "  \n",
    "    nm = \"{}.csv\".format(store)\n",
    "    p  = dta.EXT_PRICE_x.resample('H').sum()\n",
    "    d = pd.DataFrame(p, columns=['DATE','SALES'])\n",
    "    p.to_csv(nm, header=True)\n",
    "    return "
   ]
  },
  {
   "cell_type": "code",
   "execution_count": 7,
   "metadata": {},
   "outputs": [],
   "source": [
    "stores = {11:'HP_ALLEN',15:'HP_LEKKI'}\n",
    "dte = '31/10/2019'\n",
    "def save_records(stores, dte):\n",
    "    for s,v in stores.items(): \n",
    "        \n",
    "        k = getRecords(cur, 100, s, dte)\n",
    "        #print(v)\n",
    "        #PrepnSaveRecords(k,v)\n",
    "        PrepnSaveRecords(k,'HP_Lekki_18_11_2019')\n",
    "        #print(s,v)\n",
    "    return \n"
   ]
  },
  {
   "cell_type": "code",
   "execution_count": 8,
   "metadata": {
    "scrolled": true
   },
   "outputs": [
    {
     "ename": "NameError",
     "evalue": "name 'k' is not defined",
     "output_type": "error",
     "traceback": [
      "\u001b[1;31m---------------------------------------------------------------------------\u001b[0m",
      "\u001b[1;31mNameError\u001b[0m                                 Traceback (most recent call last)",
      "\u001b[1;32m<ipython-input-8-329afda4ca95>\u001b[0m in \u001b[0;36m<module>\u001b[1;34m\u001b[0m\n\u001b[1;32m----> 1\u001b[1;33m \u001b[0msave_records\u001b[0m\u001b[1;33m(\u001b[0m\u001b[0mstores\u001b[0m\u001b[1;33m,\u001b[0m \u001b[0mdte\u001b[0m\u001b[1;33m)\u001b[0m\u001b[1;33m\u001b[0m\u001b[1;33m\u001b[0m\u001b[0m\n\u001b[0m",
      "\u001b[1;32m<ipython-input-7-8b64fc5dc0f0>\u001b[0m in \u001b[0;36msave_records\u001b[1;34m(stores, dte)\u001b[0m\n\u001b[0;32m      7\u001b[0m         \u001b[1;31m#print(v)\u001b[0m\u001b[1;33m\u001b[0m\u001b[1;33m\u001b[0m\u001b[1;33m\u001b[0m\u001b[0m\n\u001b[0;32m      8\u001b[0m         \u001b[1;31m#PrepnSaveRecords(k,v)\u001b[0m\u001b[1;33m\u001b[0m\u001b[1;33m\u001b[0m\u001b[1;33m\u001b[0m\u001b[0m\n\u001b[1;32m----> 9\u001b[1;33m         \u001b[0mPrepnSaveRecords\u001b[0m\u001b[1;33m(\u001b[0m\u001b[0mk\u001b[0m\u001b[1;33m,\u001b[0m\u001b[1;34m'HP_Lekki_18_11_2019'\u001b[0m\u001b[1;33m)\u001b[0m\u001b[1;33m\u001b[0m\u001b[1;33m\u001b[0m\u001b[0m\n\u001b[0m\u001b[0;32m     10\u001b[0m         \u001b[1;31m#print(s,v)\u001b[0m\u001b[1;33m\u001b[0m\u001b[1;33m\u001b[0m\u001b[1;33m\u001b[0m\u001b[0m\n\u001b[0;32m     11\u001b[0m     \u001b[1;32mreturn\u001b[0m\u001b[1;33m\u001b[0m\u001b[1;33m\u001b[0m\u001b[0m\n",
      "\u001b[1;32m<ipython-input-6-d2686bc6119b>\u001b[0m in \u001b[0;36mPrepnSaveRecords\u001b[1;34m(df, store)\u001b[0m\n\u001b[0;32m      1\u001b[0m \u001b[1;32mdef\u001b[0m \u001b[0mPrepnSaveRecords\u001b[0m\u001b[1;33m(\u001b[0m\u001b[0mdf\u001b[0m\u001b[1;33m,\u001b[0m \u001b[0mstore\u001b[0m\u001b[1;33m)\u001b[0m\u001b[1;33m:\u001b[0m\u001b[1;33m\u001b[0m\u001b[1;33m\u001b[0m\u001b[0m\n\u001b[1;32m----> 2\u001b[1;33m     \u001b[0msales_values\u001b[0m \u001b[1;33m=\u001b[0m \u001b[0mk\u001b[0m\u001b[1;33m.\u001b[0m\u001b[0mgroupby\u001b[0m\u001b[1;33m(\u001b[0m\u001b[1;34m'INVC_SID'\u001b[0m\u001b[1;33m)\u001b[0m\u001b[1;33m.\u001b[0m\u001b[0msum\u001b[0m\u001b[1;33m(\u001b[0m\u001b[1;33m)\u001b[0m \u001b[1;31m#Sum all Invoice values\u001b[0m\u001b[1;33m\u001b[0m\u001b[1;33m\u001b[0m\u001b[0m\n\u001b[0m\u001b[0;32m      3\u001b[0m     \u001b[0msales\u001b[0m \u001b[1;33m=\u001b[0m \u001b[0msales_values\u001b[0m\u001b[1;33m.\u001b[0m\u001b[0mdrop\u001b[0m\u001b[1;33m(\u001b[0m\u001b[1;33m[\u001b[0m\u001b[1;34m'CREATED_HOUR'\u001b[0m\u001b[1;33m,\u001b[0m\u001b[1;34m'TENDER_TYPE'\u001b[0m\u001b[1;33m,\u001b[0m \u001b[1;34m'INVC_TYPE'\u001b[0m\u001b[1;33m]\u001b[0m\u001b[1;33m,\u001b[0m \u001b[0maxis\u001b[0m \u001b[1;33m=\u001b[0m \u001b[1;36m1\u001b[0m\u001b[1;33m)\u001b[0m \u001b[1;31m# remove other columns so only\u001b[0m\u001b[1;33m\u001b[0m\u001b[1;33m\u001b[0m\u001b[0m\n\u001b[0;32m      4\u001b[0m     \u001b[0minvc\u001b[0m \u001b[1;33m=\u001b[0m \u001b[0mdf\u001b[0m\u001b[1;33m.\u001b[0m\u001b[0mdrop_duplicates\u001b[0m\u001b[1;33m(\u001b[0m\u001b[1;34m'INVC_SID'\u001b[0m\u001b[1;33m)\u001b[0m\u001b[1;33m.\u001b[0m\u001b[0mset_index\u001b[0m\u001b[1;33m(\u001b[0m\u001b[1;34m'INVC_SID'\u001b[0m\u001b[1;33m)\u001b[0m \u001b[1;31m# remove all duplicate invoices and set the index to invoice sid for merging\u001b[0m\u001b[1;33m\u001b[0m\u001b[1;33m\u001b[0m\u001b[0m\n\u001b[0;32m      5\u001b[0m     \u001b[0ms\u001b[0m \u001b[1;33m=\u001b[0m \u001b[0mpd\u001b[0m\u001b[1;33m.\u001b[0m\u001b[0mmerge\u001b[0m\u001b[1;33m(\u001b[0m\u001b[0msales\u001b[0m\u001b[1;33m,\u001b[0m \u001b[0minvc\u001b[0m\u001b[1;33m,\u001b[0m  \u001b[0mhow\u001b[0m\u001b[1;33m=\u001b[0m\u001b[1;34m'left'\u001b[0m\u001b[1;33m,\u001b[0m \u001b[0mleft_on\u001b[0m \u001b[1;33m=\u001b[0m \u001b[1;34m'INVC_SID'\u001b[0m\u001b[1;33m,\u001b[0m \u001b[0mright_on\u001b[0m \u001b[1;33m=\u001b[0m \u001b[1;34m'INVC_SID'\u001b[0m \u001b[1;33m)\u001b[0m \u001b[1;31m#Merge the sum of invoice withe original records\u001b[0m\u001b[1;33m\u001b[0m\u001b[1;33m\u001b[0m\u001b[0m\n",
      "\u001b[1;31mNameError\u001b[0m: name 'k' is not defined"
     ]
    }
   ],
   "source": [
    "save_records(stores, dte)"
   ]
  },
  {
   "cell_type": "code",
   "execution_count": 10,
   "metadata": {
    "scrolled": true
   },
   "outputs": [],
   "source": [
    "# Run get function to generate the records from db. \n",
    "k = getRecords(cur, 100, 15, '31/10/2019') \n",
    "#Save the records to CSV\n",
    "rec = PrepnSaveRecords(k,'HP_Lekki')"
   ]
  },
  {
   "cell_type": "code",
   "execution_count": null,
   "metadata": {},
   "outputs": [],
   "source": []
  },
  {
   "cell_type": "code",
   "execution_count": null,
   "metadata": {},
   "outputs": [],
   "source": []
  }
 ],
 "metadata": {
  "kernelspec": {
   "display_name": "Python 3",
   "language": "python",
   "name": "python3"
  },
  "language_info": {
   "codemirror_mode": {
    "name": "ipython",
    "version": 3
   },
   "file_extension": ".py",
   "mimetype": "text/x-python",
   "name": "python",
   "nbconvert_exporter": "python",
   "pygments_lexer": "ipython3",
   "version": "3.7.4"
  }
 },
 "nbformat": 4,
 "nbformat_minor": 2
}
