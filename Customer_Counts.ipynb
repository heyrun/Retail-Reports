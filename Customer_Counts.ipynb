{
 "cells": [
  {
   "cell_type": "code",
   "execution_count": 2,
   "metadata": {},
   "outputs": [],
   "source": [
    "#Import required Libraries. \n",
    "import numpy as np\n",
    "import pandas as pd\n",
    "import matplotlib.pyplot as plt\n",
    "import cx_Oracle \n",
    "import gzip\n",
    "import calendar\n",
    "import pickle\n",
    "from datetime import date, datetime, timedelta\n",
    "from dateutil.relativedelta import relativedelta\n"
   ]
  },
  {
   "cell_type": "markdown",
   "metadata": {},
   "source": [
    "#Connection to corporate Server\n",
    "conn = cx_Oracle.connect('ReportUser/report@10.10.1.7:1521/rproods')\n",
    "cur = conn.cursor()\n",
    "sql = \"select ACTIVE from CUSTOMER_V\"\n",
    "cur.execute(sql)\n",
    "resutl = cur.fetchall()\n"
   ]
  },
  {
   "cell_type": "code",
   "execution_count": 3,
   "metadata": {},
   "outputs": [],
   "source": [
    "#Last Month Details\n",
    "#last_month = date.today().strftime(\"%m\")\n",
    "#Last_Sales_Date = '30/11/2019'"
   ]
  },
  {
   "cell_type": "code",
   "execution_count": 4,
   "metadata": {},
   "outputs": [],
   "source": [
    "def getLastWeekCustomers(sbs):\n",
    "    conn = cx_Oracle.connect('ReportUser/report@10.10.1.7:1521/rproods')\n",
    "    cur = conn.cursor()\n",
    "    #Dates Needed for SQL Script. \n",
    "\n",
    "    today =date.today()\n",
    "    last_date = date.today() - relativedelta(months=+1)\n",
    "    last_date = str(last_date.day) +\"/\" +str(last_date.month)+\"/\"+str(last_date.year)\n",
    "    next_monday = today + timedelta(days=-today.weekday(), weeks=1)\n",
    "    lastMonday = next_monday -timedelta(days=14)\n",
    "    lastSunday = lastMonday+timedelta(days=6)\n",
    "    lastMondy = str(lastMonday.day)+\"/\"+str(lastMonday.month)+\"/\"+str(lastMonday.year)\n",
    "    lastSundy = str(lastSunday.day)+\"/\"+str(lastSunday.month)+\"/\"+str(lastSunday.year)\n",
    "    lastWeek = \"select count(c.CUST_SID) FROM CUSTOMER_V c WHERE c.LST_SALE_DATE BETWEEN to_date('{}','DD/MM/YYYY') AND to_date('{}','DD/MM/YYYY') AND c.SBS_NO={}\".format(lastMondy, lastSundy, sbs)\n",
    "    cur.execute(lastWeek)\n",
    "    s =  cur.fetchall()\n",
    "    lastWeekCustomers = {'Last Week Customers - {}'.format(sbs): s[0][0]}\n",
    "    return lastWeekCustomers\n",
    "    \n"
   ]
  },
  {
   "cell_type": "code",
   "execution_count": 5,
   "metadata": {},
   "outputs": [],
   "source": [
    "def getSixMonthsCustomers(sbs):\n",
    "    conn = cx_Oracle.connect('ReportUser/report@10.10.1.7:1521/rproods')\n",
    "    cur = conn.cursor()\n",
    "    #Dates Needed for SQL Script. \n",
    "    six_months = date.today() - relativedelta(months=+6)\n",
    "    six_months = str(six_months.day) +\"/\" +str(six_months.month)+\"/\"+str(six_months.year)\n",
    "\n",
    "    #six = \"select c.CUST_SID, c.SBS_NO,c.FIRST_NAME, c.LAST_NAME, c.CREATED_DATE,c.LST_SALE_DATE, c.LST_SALE_AMT, a.PHONE1, a.EMAIL_ADDR FROM CUSTOMER_V c LEFT JOIN CUST_ADDRESS_V a ON c.CUST_SID=a.CUST_SID WHERE c.LST_SALE_DATE > to_date('{}','DD/MM/YYYY')\".format(six_months)\n",
    "    six = \"select count(c.CUST_SID) FROM CUSTOMER_V c WHERE c.LST_SALE_DATE > to_date('{}','DD/MM/YYYY') and c.SBS_NO = {}\".format(six_months,sbs)\n",
    "    cur.execute(six)\n",
    "    s =  cur.fetchall()\n",
    "    sixMonthsCount = {'Last 6 Months Customers - {}'.format(sbs): s[0][0]}\n",
    "    return sixMonthsCount"
   ]
  },
  {
   "cell_type": "code",
   "execution_count": 5,
   "metadata": {},
   "outputs": [],
   "source": [
    "def getNewLastWeekCustomers(sbs):\n",
    "    conn = cx_Oracle.connect('ReportUser/report@10.10.1.7:1521/rproods')\n",
    "    cur = conn.cursor()\n",
    "    #Dates Needed for SQL Script. \n",
    "\n",
    "    today =date.today()\n",
    "    last_date = date.today() - relativedelta(months=+1)\n",
    "    last_date = str(last_date.day) +\"/\" +str(last_date.month)+\"/\"+str(last_date.year)\n",
    "    next_monday = today + timedelta(days=-today.weekday(), weeks=1)\n",
    "    lastMonday = next_monday -timedelta(days=14)\n",
    "    lastSunday = lastMonday+timedelta(days=6)\n",
    "    lastMondy = str(lastMonday.day)+\"/\"+str(lastMonday.month)+\"/\"+str(lastMonday.year)\n",
    "    lastSundy = str(lastSunday.day)+\"/\"+str(lastSunday.month)+\"/\"+str(lastSunday.year)\n",
    "    lastWeek = \"select count(c.CUST_SID) FROM CUSTOMER_V c WHERE c.SBS_NO = {} AND  c.CREATED_DATE BETWEEN to_date('{}','DD/MM/YYYY') AND to_date('{}','DD/MM/YYYY')\".format(sbs,lastMondy, lastSundy)\n",
    "    cur.execute(lastWeek)\n",
    "    s =  cur.fetchall()\n",
    "    lastWeekCustomers = {'Last Week New Customers - {}'.format(sbs): s[0][0]}\n",
    "    return lastWeekCustomers\n"
   ]
  },
  {
   "cell_type": "code",
   "execution_count": 6,
   "metadata": {},
   "outputs": [
    {
     "name": "stdout",
     "output_type": "stream",
     "text": [
      "{'Last Week New Customers - 200': 378}\n"
     ]
    }
   ],
   "source": [
    "print(getNewLastWeekCustomers(200))"
   ]
  },
  {
   "cell_type": "code",
   "execution_count": 7,
   "metadata": {},
   "outputs": [],
   "source": [
    "def totalCustomers(sbs):\n",
    "    conn = cx_Oracle.connect('ReportUser/report@10.10.1.7:1521/rproods')\n",
    "    cur = conn.cursor()\n",
    "    #Dates Needed for SQL Script. \n",
    "    lastWeek = \"select count(CUST_SID) FROM CUSTOMER_V where ACTIVE=1 AND SBS_NO= {} \".format(sbs)\n",
    "    cur.execute(lastWeek)\n",
    "    s =  cur.fetchmany()\n",
    "    lastWeekCustomers = {'Total Customers - {}'.format(sbs): s[0][0]}\n",
    "    return lastWeekCustomers"
   ]
  },
  {
   "cell_type": "code",
   "execution_count": 8,
   "metadata": {},
   "outputs": [
    {
     "name": "stdout",
     "output_type": "stream",
     "text": [
      "{'Total Customers - 200': 139132}\n"
     ]
    }
   ],
   "source": [
    "print(totalCustomers(200))"
   ]
  },
  {
   "cell_type": "code",
   "execution_count": 9,
   "metadata": {},
   "outputs": [],
   "source": [
    "customers = {}\n",
    "sub = (100,200)\n",
    "\n",
    "for i in sub:\n",
    "    customers.update(totalCustomers(i))\n",
    "    customers.update(getSixMonthsCustomers(i))\n",
    "    customers.update(getLastWeekCustomers(i))\n",
    "    customers.update(getNewLastWeekCustomers(i))"
   ]
  },
  {
   "cell_type": "code",
   "execution_count": 10,
   "metadata": {},
   "outputs": [
    {
     "data": {
      "text/plain": [
       "{'Total Customers - 100': 548236,\n",
       " 'Last 6 Months Customers - 100': 132512,\n",
       " 'Last Week Customers - 100': 7804,\n",
       " 'Last Week New Customers - 100': 1420,\n",
       " 'Total Customers - 200': 139132,\n",
       " 'Last 6 Months Customers - 200': 31479,\n",
       " 'Last Week Customers - 200': 1610,\n",
       " 'Last Week New Customers - 200': 378}"
      ]
     },
     "execution_count": 10,
     "metadata": {},
     "output_type": "execute_result"
    }
   ],
   "source": [
    "customers"
   ]
  },
  {
   "cell_type": "code",
   "execution_count": 11,
   "metadata": {},
   "outputs": [],
   "source": [
    "data = pd.DataFrame.from_dict(customers, orient='index', columns= ['Count'])"
   ]
  },
  {
   "cell_type": "code",
   "execution_count": 12,
   "metadata": {},
   "outputs": [
    {
     "data": {
      "text/html": [
       "<div>\n",
       "<style scoped>\n",
       "    .dataframe tbody tr th:only-of-type {\n",
       "        vertical-align: middle;\n",
       "    }\n",
       "\n",
       "    .dataframe tbody tr th {\n",
       "        vertical-align: top;\n",
       "    }\n",
       "\n",
       "    .dataframe thead th {\n",
       "        text-align: right;\n",
       "    }\n",
       "</style>\n",
       "<table border=\"1\" class=\"dataframe\">\n",
       "  <thead>\n",
       "    <tr style=\"text-align: right;\">\n",
       "      <th></th>\n",
       "      <th>Count</th>\n",
       "    </tr>\n",
       "  </thead>\n",
       "  <tbody>\n",
       "    <tr>\n",
       "      <td>Total Customers - 100</td>\n",
       "      <td>548236</td>\n",
       "    </tr>\n",
       "    <tr>\n",
       "      <td>Last 6 Months Customers - 100</td>\n",
       "      <td>132512</td>\n",
       "    </tr>\n",
       "    <tr>\n",
       "      <td>Last Week Customers - 100</td>\n",
       "      <td>7804</td>\n",
       "    </tr>\n",
       "    <tr>\n",
       "      <td>Last Week New Customers - 100</td>\n",
       "      <td>1420</td>\n",
       "    </tr>\n",
       "    <tr>\n",
       "      <td>Total Customers - 200</td>\n",
       "      <td>139132</td>\n",
       "    </tr>\n",
       "    <tr>\n",
       "      <td>Last 6 Months Customers - 200</td>\n",
       "      <td>31479</td>\n",
       "    </tr>\n",
       "    <tr>\n",
       "      <td>Last Week Customers - 200</td>\n",
       "      <td>1610</td>\n",
       "    </tr>\n",
       "    <tr>\n",
       "      <td>Last Week New Customers - 200</td>\n",
       "      <td>378</td>\n",
       "    </tr>\n",
       "  </tbody>\n",
       "</table>\n",
       "</div>"
      ],
      "text/plain": [
       "                                Count\n",
       "Total Customers - 100          548236\n",
       "Last 6 Months Customers - 100  132512\n",
       "Last Week Customers - 100        7804\n",
       "Last Week New Customers - 100    1420\n",
       "Total Customers - 200          139132\n",
       "Last 6 Months Customers - 200   31479\n",
       "Last Week Customers - 200        1610\n",
       "Last Week New Customers - 200     378"
      ]
     },
     "execution_count": 12,
     "metadata": {},
     "output_type": "execute_result"
    }
   ],
   "source": [
    "data"
   ]
  },
  {
   "cell_type": "markdown",
   "metadata": {},
   "source": [
    "# code for Transaction Count\n"
   ]
  },
  {
   "cell_type": "code",
   "execution_count": null,
   "metadata": {},
   "outputs": [],
   "source": [
    "d = [('2/02/2020','8/02/2020',100 ), ('2/02/2019','8/02/2019',200 )]\n",
    "counts = {}\n",
    "for i in d:\n",
    "    query = \"select count(invc_sid) as trans_count from invoice_v where sbs_no={} and invc_type=0 and created_date between to_date('{}', 'DD/MM/YYYY') AND to_date('{}', 'DD/MM/YYYY')\".format(i[2], i[0], i[1])\n",
    "    cur.execute(query)\n",
    "    count =  cur.fetchone()\n",
    "    sub = \"HealthPlus\" if i[2] == 100 else \"CasaBella\"\n",
    "    \n",
    "    dates = sub + ': ' + i[0]+' - '+ i[1]\n",
    "    counts.update({dates: count})\n",
    "     \n",
    "x = list(counts.values())\n",
    "x = [i[0] for i in x]\n",
    "y =  list(counts.keys())\n",
    "y = [i.split('-')[0] for i in y]\n",
    "y = [i.rstrip() for i in y]\n",
    "plt.plot(y, x)\n",
    "plt.xlabel = \"Week\"\n",
    "plt.ylable = \"Trans Coutn\"\n"
   ]
  },
  {
   "cell_type": "code",
   "execution_count": null,
   "metadata": {},
   "outputs": [],
   "source": [
    "counts"
   ]
  },
  {
   "cell_type": "code",
   "execution_count": 13,
   "metadata": {},
   "outputs": [],
   "source": [
    "data.to_csv('Customers_count.csv')"
   ]
  },
  {
   "cell_type": "markdown",
   "metadata": {},
   "source": [
    "# End of Script"
   ]
  },
  {
   "cell_type": "markdown",
   "metadata": {},
   "source": [
    "today =date.today()\n",
    "last_date = date.today() - relativedelta(months=+1)\n",
    "last_date = str(last_date.day) +\"/\" +str(last_date.month)+\"/\"+str(last_date.year)\n",
    "next_monday = today + timedelta(days=-today.weekday(), weeks=1)\n",
    "lastMonday = next_monday -timedelta(days=14)\n",
    "lastSunday = lastMonday+timedelta(days=6)"
   ]
  },
  {
   "cell_type": "markdown",
   "metadata": {
    "scrolled": true
   },
   "source": [
    "last_sale_date = date.today() - relativedelta(months=+1)\n",
    "last_date = str(last_sale_date.day) +\"/\" +str(last_sale_date.month)+\"/\"+str(last_sale_date.year)\n",
    "print(last_date)"
   ]
  },
  {
   "cell_type": "code",
   "execution_count": null,
   "metadata": {},
   "outputs": [],
   "source": []
  },
  {
   "cell_type": "markdown",
   "metadata": {},
   "source": [
    "print(getnewCustomers())"
   ]
  }
 ],
 "metadata": {
  "kernelspec": {
   "display_name": "Python 3",
   "language": "python",
   "name": "python3"
  },
  "language_info": {
   "codemirror_mode": {
    "name": "ipython",
    "version": 3
   },
   "file_extension": ".py",
   "mimetype": "text/x-python",
   "name": "python",
   "nbconvert_exporter": "python",
   "pygments_lexer": "ipython3",
   "version": "3.7.4"
  }
 },
 "nbformat": 4,
 "nbformat_minor": 2
}
