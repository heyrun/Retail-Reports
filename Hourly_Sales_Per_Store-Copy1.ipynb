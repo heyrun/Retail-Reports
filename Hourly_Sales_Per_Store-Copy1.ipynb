{
 "cells": [
  {
   "cell_type": "code",
   "execution_count": 1,
   "metadata": {},
   "outputs": [],
   "source": [
    "import pandas as pd\n",
    "import numpy as np\n",
    "import cx_Oracle\n",
    "import matplotlib.pyplot as plt\n",
    "from datetime import datetime"
   ]
  },
  {
   "cell_type": "code",
   "execution_count": 2,
   "metadata": {},
   "outputs": [],
   "source": [
    "conn = cx_Oracle.connect('ReportUser/report@10.10.1.7:1521/rproods')\n",
    "cur = conn.cursor()"
   ]
  },
  {
   "cell_type": "code",
   "execution_count": 3,
   "metadata": {},
   "outputs": [],
   "source": [
    "def getRecords(sbs=100, store=15, dat='31/10/2019'):\n",
    "    #dat = datetime.strptime(dat, '%d/%m/%Y')\n",
    "    #dat  =  datetime.strftime(\"%d/%M/%Y\",dat)\n",
    "    \n",
    "    query= \"select i.INVC_SID, i.INVC_TYPE, i.CREATED_DATE,i.CREATED_HOUR, i.TENDER_TYPE, (t.QTY* t.PRICE) as EXT_PRICE, (t.QTY*t.COST) AS EXT_COST FROM INVC_ITEM_V t LEFT JOIN invoice_v i ON t.INVC_SID = i.INVC_SID where (i.SBS_NO={} AND i.STORE_NO={}) AND i.CREATED_DATE > to_date('{}','DD/MM/YYYY')\".format(sbs, store, dat)\n",
    "    \n",
    "        \n",
    "    cur.execute(query)\n",
    "    records = cur.fetchall()\n",
    "    columns = ['INVC_SID', 'INVC_TYPE', 'CREATED_DATE','CREATED_HOUR', 'TENDER_TYPE',  'EXT_PRICE',  'EXT_COST']\n",
    "    df = pd.DataFrame(records, columns=columns)\n",
    "    hours  = [22,23,0,1,2,3,4,5,6]\n",
    "    df = df[(df.CREATED_HOUR.isin(hours))]\n",
    "    \n",
    "    return df\n"
   ]
  },
  {
   "cell_type": "code",
   "execution_count": null,
   "metadata": {},
   "outputs": [],
   "source": [
    "def getQTYCount(cur=cur,sbs=100, store=None, dat='31/10/2019'):\n",
    "    #dat = datetime.strptime(dat, '%d/%m/%Y')\n",
    "    #dat  =  datetime.strftime(\"%d/%M/%Y\",dat)\n",
    "    \n",
    "    query= \"select i.INVC_SID, i.INVC_TYPE, i.CREATED_DATE,i.CREATED_HOUR, i.TENDER_TYPE,t.QTY as qty, (t.QTY* t.PRICE) as EXT_PRICE, (t.QTY*t.COST) AS EXT_COST FROM INVC_ITEM_V t LEFT JOIN invoice_v i ON t.INVC_SID = i.INVC_SID where (i.SBS_NO={} AND i.STORE_NO={} AND i.INVC_TYPE=0) AND i.CREATED_DATE > to_date('{}','DD/MM/YYYY')\".format(sbs, store, dat)\n",
    "    \n",
    "        \n",
    "    cur.execute(query)\n",
    "    records = cur.fetchall()\n",
    "    columns = ['INVC_SID', 'INVC_TYPE', 'CREATED_DATE','CREATED_HOUR', 'TENDER_TYPE', 'QTY', 'EXT_PRICE',  'EXT_COST']\n",
    "    df = pd.DataFrame(records, columns=columns)\n",
    "    hours  = [10,11,12,1,2,3,4,5,6]\n",
    "    df = df[(df.CREATED_HOUR.isin(hours))]\n",
    "    df.\n",
    "    \n",
    "    \n",
    "    return df"
   ]
  },
  {
   "cell_type": "code",
   "execution_count": 4,
   "metadata": {},
   "outputs": [],
   "source": [
    "def getRecordsforCount(cur=cur,sbs=100, store=None, dat='31/10/2019'):\n",
    "    #dat = datetime.strptime(dat, '%d/%m/%Y')\n",
    "    #dat  =  datetime.strftime(\"%d/%M/%Y\",dat)\n",
    "    \n",
    "    query= \"select i.INVC_SID, i.INVC_TYPE, i.CREATED_DATE,i.CREATED_HOUR, i.TENDER_TYPE FROM invoice_v i where (i.SBS_NO={} AND i.STORE_NO={} AND i.INVC_TYPE=0) AND i.CREATED_DATE > to_date('{}','DD/MM/YYYY')\".format(sbs, store, dat)\n",
    "    \n",
    "        \n",
    "    cur.execute(query)\n",
    "    records = cur.fetchall()\n",
    "    columns = ['INVC_SID', 'INVC_TYPE', 'CREATED_DATE','CREATED_HOUR', 'TENDER_TYPE']\n",
    "    df = pd.DataFrame(records, columns=columns)\n",
    "    hours  = [22,23,0,1,2,3,4,5,6]\n",
    "    df = df[(df.CREATED_HOUR.isin(hours))]\n",
    "    \n",
    "    \n",
    "    return df\n"
   ]
  },
  {
   "cell_type": "code",
   "execution_count": 5,
   "metadata": {},
   "outputs": [],
   "source": [
    "def transcount(df):\n",
    "    #data = df.groupby()\n",
    "    data = df.set_index('CREATED_DATE')\n",
    "    d = data.resample('M').count()\n",
    "    #d = pd.DataFrame(p, columns=['DATE','Counts'])\n",
    "    #p.to_csv(nm, header=True)\n",
    "    return d"
   ]
  },
  {
   "cell_type": "code",
   "execution_count": null,
   "metadata": {},
   "outputs": [],
   "source": [
    "g = getRecordsforCount(cur, 100, 15)"
   ]
  },
  {
   "cell_type": "code",
   "execution_count": null,
   "metadata": {},
   "outputs": [],
   "source": [
    "f = transcount(g)"
   ]
  },
  {
   "cell_type": "code",
   "execution_count": null,
   "metadata": {},
   "outputs": [],
   "source": [
    "f"
   ]
  },
  {
   "cell_type": "code",
   "execution_count": 6,
   "metadata": {},
   "outputs": [],
   "source": [
    "def getPrice(df):\n",
    "    invoices = df.groupby('INVC_SID').sum()\n",
    "    df = df.set_index('INVC_SID')\n",
    "    merged_df = pd.merge(invoices, df['CREATED_DATE'], how='left', left_on = 'INVC_SID', right_on='INVC_SID')\n",
    "    m = merged_df.set_index('CREATED_DATE').resample('M').sum()\n",
    "    return m"
   ]
  },
  {
   "cell_type": "code",
   "execution_count": 7,
   "metadata": {},
   "outputs": [],
   "source": [
    "transvalue =getRecords()"
   ]
  },
  {
   "cell_type": "code",
   "execution_count": 12,
   "metadata": {},
   "outputs": [],
   "source": [
    "def Transvalue(count, value):\n",
    "    newdata = pd.merge(value,count['INVC_SID'], how='left', on ='CREATED_DATE')\n",
    "    newdata['basket'] = newdata.EXT_PRICE/newdata.INVC_SID\n",
    "    \n",
    "    return newdata\n",
    "    "
   ]
  },
  {
   "cell_type": "code",
   "execution_count": 8,
   "metadata": {},
   "outputs": [],
   "source": [
    "transcounts = getRecordsforCount(cur, 100, 15)\n"
   ]
  },
  {
   "cell_type": "code",
   "execution_count": 9,
   "metadata": {},
   "outputs": [],
   "source": [
    "tcount = transcount(transcounts)"
   ]
  },
  {
   "cell_type": "code",
   "execution_count": 10,
   "metadata": {},
   "outputs": [],
   "source": [
    "tvalues = getPrice(transvalue)"
   ]
  },
  {
   "cell_type": "code",
   "execution_count": 13,
   "metadata": {},
   "outputs": [],
   "source": [
    "transaction = Transvalue(tcount, tvalues)"
   ]
  },
  {
   "cell_type": "code",
   "execution_count": 14,
   "metadata": {},
   "outputs": [],
   "source": [
    "transaction.rename({'INVC_SID':'TRANS_COUNT'}, inplace=True)"
   ]
  },
  {
   "cell_type": "code",
   "execution_count": 16,
   "metadata": {},
   "outputs": [],
   "source": [
    "transaction.to_csv('Transaction.csv')"
   ]
  },
  {
   "cell_type": "code",
   "execution_count": null,
   "metadata": {},
   "outputs": [],
   "source": [
    "transaction"
   ]
  },
  {
   "cell_type": "code",
   "execution_count": null,
   "metadata": {},
   "outputs": [],
   "source": [
    "qty = getQTYCount(cur, 100, 15)"
   ]
  },
  {
   "cell_type": "code",
   "execution_count": null,
   "metadata": {},
   "outputs": [],
   "source": [
    "q =qty.groupby('INVC_SID').sum().filter(lambda x: x['INVC_SID'] == 4406152886771313037)"
   ]
  },
  {
   "cell_type": "code",
   "execution_count": null,
   "metadata": {},
   "outputs": [],
   "source": [
    "q[q.index == 4406152886771313037]"
   ]
  },
  {
   "cell_type": "code",
   "execution_count": null,
   "metadata": {},
   "outputs": [],
   "source": [
    "\n",
    "    query= \"select i.INVC_SID, i.INVC_TYPE, i.CREATED_DATE,i.CREATED_HOUR, i.TENDER_TYPE FROM invoice_v i where (i.SBS_NO=100 AND i.STORE_NO=15 AND i.INVC_TYPE=0) AND i.CREATED_DATE between to_date('{}','DD/MM/YYYY') and to_date('{}','DD/MM/YYYY') \".format('02/11/2019','03/11/2019')\n",
    "    \n",
    "        \n",
    "    cur.execute(query)\n",
    "    records = cur.fetchall()"
   ]
  },
  {
   "cell_type": "code",
   "execution_count": null,
   "metadata": {},
   "outputs": [],
   "source": [
    "k = pd.DataFrame(records, columns = ['sid','type','date','hour','tender'])\n",
    "hours  = [22,23,0,1,2,3,4,5,6]\n",
    "j = k[k['hour'].isin(hours)]"
   ]
  },
  {
   "cell_type": "code",
   "execution_count": null,
   "metadata": {},
   "outputs": [],
   "source": [
    "j"
   ]
  },
  {
   "cell_type": "code",
   "execution_count": null,
   "metadata": {},
   "outputs": [],
   "source": [
    "k"
   ]
  },
  {
   "cell_type": "code",
   "execution_count": null,
   "metadata": {
    "scrolled": false
   },
   "outputs": [],
   "source": [
    "invoices = night_shift.groupby('INVC_SID').sum()\n",
    "df = night_shift.set_index('INVC_SID')\n",
    "merged_df = pd.merge(invoices, df['CREATED_DATE'], how='left', left_on = 'INVC_SID', right_on='INVC_SID')"
   ]
  },
  {
   "cell_type": "code",
   "execution_count": null,
   "metadata": {},
   "outputs": [],
   "source": [
    "merged_df.head()\n"
   ]
  },
  {
   "cell_type": "code",
   "execution_count": null,
   "metadata": {
    "scrolled": false
   },
   "outputs": [],
   "source": [
    "invoices.head()"
   ]
  },
  {
   "cell_type": "code",
   "execution_count": null,
   "metadata": {},
   "outputs": [],
   "source": [
    "m = merged_df.set_index('CREATED_DATE').resample('m').sum()\n",
    "\n",
    "newdata = pd.merge(m,d, how='left', on ='CREATED_DATE')"
   ]
  },
  {
   "cell_type": "code",
   "execution_count": null,
   "metadata": {},
   "outputs": [],
   "source": []
  },
  {
   "cell_type": "code",
   "execution_count": null,
   "metadata": {},
   "outputs": [],
   "source": [
    "newdata"
   ]
  },
  {
   "cell_type": "code",
   "execution_count": null,
   "metadata": {},
   "outputs": [],
   "source": []
  },
  {
   "cell_type": "code",
   "execution_count": null,
   "metadata": {},
   "outputs": [],
   "source": [
    "d = transcount(night_shift)"
   ]
  },
  {
   "cell_type": "code",
   "execution_count": null,
   "metadata": {},
   "outputs": [],
   "source": [
    "d"
   ]
  },
  {
   "cell_type": "code",
   "execution_count": null,
   "metadata": {},
   "outputs": [],
   "source": [
    "\n",
    "    "
   ]
  },
  {
   "cell_type": "code",
   "execution_count": null,
   "metadata": {},
   "outputs": [],
   "source": [
    "transcount = transcount"
   ]
  },
  {
   "cell_type": "code",
   "execution_count": null,
   "metadata": {},
   "outputs": [],
   "source": [
    "def PrepnSaveRecords(df, store):\n",
    "    sales_values = k.groupby('INVC_SID').sum() #Sum all Invoice values\n",
    "    sales = sales_values.drop(['CREATED_HOUR','TENDER_TYPE', 'INVC_TYPE'], axis = 1) # remove other columns so only \n",
    "    invc = df.drop_duplicates('INVC_SID').set_index('INVC_SID') # remove all duplicate invoices and set the index to invoice sid for merging\n",
    "    s = pd.merge(sales, invc,  how='left', left_on = 'INVC_SID', right_on = 'INVC_SID' ) #Merge the sum of invoice withe original records\n",
    "    s.drop(['EXT_PRICE_y', 'EXT_COST_y'], axis=1, inplace=True) #remove duplicate columns\n",
    "    s.rename({'EXT_PRICE_x':'EXT_PRICE', \n",
    "             'EXT_COST_x':'EXT_COST'}, inplace = True)\n",
    "    \n",
    "    dta  = s.set_index('CREATED_DATE') #Make the record a time series \n",
    "  \n",
    "    nm = \"{}.csv\".format(store)\n",
    "    p  = dta.EXT_PRICE_x.resample('H').sum()\n",
    "    d = pd.DataFrame(p, columns=['DATE','SALES'])\n",
    "    p.to_csv(nm, header=True)\n",
    "    return \n"
   ]
  },
  {
   "cell_type": "code",
   "execution_count": null,
   "metadata": {},
   "outputs": [],
   "source": [
    "stores = {11:'HP_ALLEN',15:'HP_LEKKI'}\n",
    "dte = '31/10/2019'\n",
    "def save_records(stores, dte):\n",
    "    for s,v in stores.items(): \n",
    "        \n",
    "        k = getRecords(cur, 100, s, dte)\n",
    "        #print(v)\n",
    "        #PrepnSaveRecords(k,v)\n",
    "        PrepnSaveRecords(k,'HP_Lekki_18_11_2019')\n",
    "        #print(s,v)\n",
    "    return \n"
   ]
  },
  {
   "cell_type": "code",
   "execution_count": null,
   "metadata": {
    "scrolled": true
   },
   "outputs": [],
   "source": [
    "save_records(stores, dte)"
   ]
  },
  {
   "cell_type": "code",
   "execution_count": null,
   "metadata": {
    "scrolled": true
   },
   "outputs": [],
   "source": [
    "# Run get function to generate the records from db. \n",
    "k = getRecords(cur, 100, 15, '31/10/2019') \n",
    "#Save the records to CSV\n",
    "rec = PrepnSaveRecords(k,'HP_Lekki')"
   ]
  },
  {
   "cell_type": "code",
   "execution_count": null,
   "metadata": {},
   "outputs": [],
   "source": []
  },
  {
   "cell_type": "code",
   "execution_count": null,
   "metadata": {},
   "outputs": [],
   "source": []
  }
 ],
 "metadata": {
  "kernelspec": {
   "display_name": "Python 3",
   "language": "python",
   "name": "python3"
  },
  "language_info": {
   "codemirror_mode": {
    "name": "ipython",
    "version": 3
   },
   "file_extension": ".py",
   "mimetype": "text/x-python",
   "name": "python",
   "nbconvert_exporter": "python",
   "pygments_lexer": "ipython3",
   "version": "3.7.4"
  }
 },
 "nbformat": 4,
 "nbformat_minor": 2
}
