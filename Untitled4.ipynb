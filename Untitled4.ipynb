{
 "cells": [
  {
   "cell_type": "code",
   "execution_count": 1,
   "metadata": {},
   "outputs": [],
   "source": [
    "#Import required Libraries. \n",
    "import numpy as np\n",
    "import pandas as pd\n",
    "import matplotlib.pyplot as plt\n",
    "import cx_Oracle \n",
    "import gzip\n",
    "import calendar\n",
    "import pickle\n",
    "from datetime import date, datetime, timedelta\n",
    "from dateutil.relativedelta import relativedelta"
   ]
  },
  {
   "cell_type": "code",
   "execution_count": 10,
   "metadata": {},
   "outputs": [],
   "source": [
    "def getLastWeekCustomers():\n",
    "    conn = cx_Oracle.connect('ReportUser/report@10.10.1.7:1521/rproods')\n",
    "    cur = conn.cursor()\n",
    "    #Dates Needed for SQL Script. \n",
    "\n",
    "    today =date.today()\n",
    "    last_date = date.today() - relativedelta(months=+1)\n",
    "    last_date = str(last_date.day) +\"/\" +str(last_date.month)+\"/\"+str(last_date.year)\n",
    "    next_monday = today + timedelta(days=-today.weekday(), weeks=1)\n",
    "    lastMonday = next_monday -timedelta(days=28)\n",
    "    lastSunday = lastMonday+timedelta(days=6)\n",
    "    lastMondy = str(lastMonday.day)+\"/\"+str(lastMonday.month)+\"/\"+str(lastMonday.year)\n",
    "    lastSundy = str(lastSunday.day)+\"/\"+str(lastSunday.month)+\"/\"+str(lastSunday.year)\n",
    "    lastWeek = \"select count(c.CUST_SID) FROM CUSTOMER_V c WHERE c.LST_SALE_DATE BETWEEN to_date('{}','DD/MM/YYYY') AND to_date('{}','DD/MM/YYYY')\".format(lastMondy, lastSundy)\n",
    "    cur.execute(lastWeek)\n",
    "    s =  cur.fetchall()\n",
    "    lastWeekCustomers = {'Last Week Customers': s[0][0]}\n",
    "    print(lastMonday)\n",
    "    return lastWeekCustomers\n",
    "    "
   ]
  },
  {
   "cell_type": "code",
   "execution_count": 12,
   "metadata": {},
   "outputs": [
    {
     "name": "stdout",
     "output_type": "stream",
     "text": [
      "2019-12-30\n"
     ]
    },
    {
     "data": {
      "text/plain": [
       "{'Last Week Customers': 8641}"
      ]
     },
     "execution_count": 12,
     "metadata": {},
     "output_type": "execute_result"
    }
   ],
   "source": [
    "getLastWeekCustomers()"
   ]
  },
  {
   "cell_type": "code",
   "execution_count": null,
   "metadata": {},
   "outputs": [],
   "source": []
  }
 ],
 "metadata": {
  "kernelspec": {
   "display_name": "Python 3",
   "language": "python",
   "name": "python3"
  },
  "language_info": {
   "codemirror_mode": {
    "name": "ipython",
    "version": 3
   },
   "file_extension": ".py",
   "mimetype": "text/x-python",
   "name": "python",
   "nbconvert_exporter": "python",
   "pygments_lexer": "ipython3",
   "version": "3.7.4"
  }
 },
 "nbformat": 4,
 "nbformat_minor": 2
}
